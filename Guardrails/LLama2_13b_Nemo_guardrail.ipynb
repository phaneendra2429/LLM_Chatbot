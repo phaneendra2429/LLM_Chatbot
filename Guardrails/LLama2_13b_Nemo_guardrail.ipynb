{
  "nbformat": 4,
  "nbformat_minor": 0,
  "metadata": {
    "colab": {
      "provenance": [],
      "gpuType": "T4"
    },
    "kernelspec": {
      "name": "python3",
      "display_name": "Python 3"
    },
    "language_info": {
      "name": "python"
    },
    "accelerator": "GPU",
    "widgets": {
      "application/vnd.jupyter.widget-state+json": {}
    }
  },
  "cells": [
    {
      "cell_type": "code",
      "source": [],
      "metadata": {
        "id": "tApHDhdpjhYS"
      },
      "execution_count": null,
      "outputs": []
    },
    {
      "cell_type": "code",
      "execution_count": null,
      "metadata": {
        "id": "EBZvbr40ytSn"
      },
      "outputs": [],
      "source": [
        "!pip install langchain_community langchain -q"
      ]
    },
    {
      "cell_type": "code",
      "source": [
        "!pip install ctransformers"
      ],
      "metadata": {
        "colab": {
          "base_uri": "https://localhost:8080/"
        },
        "id": "RykyUDOE-1wa",
        "outputId": "fd168eb2-d683-4b99-91b2-79859f4d35f6"
      },
      "execution_count": null,
      "outputs": [
        {
          "output_type": "stream",
          "name": "stdout",
          "text": [
            "Requirement already satisfied: ctransformers in /usr/local/lib/python3.10/dist-packages (0.2.27)\n",
            "Requirement already satisfied: huggingface-hub in /usr/local/lib/python3.10/dist-packages (from ctransformers) (0.20.3)\n",
            "Requirement already satisfied: py-cpuinfo<10.0.0,>=9.0.0 in /usr/local/lib/python3.10/dist-packages (from ctransformers) (9.0.0)\n",
            "Requirement already satisfied: filelock in /usr/local/lib/python3.10/dist-packages (from huggingface-hub->ctransformers) (3.13.1)\n",
            "Requirement already satisfied: fsspec>=2023.5.0 in /usr/local/lib/python3.10/dist-packages (from huggingface-hub->ctransformers) (2023.6.0)\n",
            "Requirement already satisfied: requests in /usr/local/lib/python3.10/dist-packages (from huggingface-hub->ctransformers) (2.31.0)\n",
            "Requirement already satisfied: tqdm>=4.42.1 in /usr/local/lib/python3.10/dist-packages (from huggingface-hub->ctransformers) (4.66.2)\n",
            "Requirement already satisfied: pyyaml>=5.1 in /usr/local/lib/python3.10/dist-packages (from huggingface-hub->ctransformers) (6.0.1)\n",
            "Requirement already satisfied: typing-extensions>=3.7.4.3 in /usr/local/lib/python3.10/dist-packages (from huggingface-hub->ctransformers) (4.10.0)\n",
            "Requirement already satisfied: packaging>=20.9 in /usr/local/lib/python3.10/dist-packages (from huggingface-hub->ctransformers) (23.2)\n",
            "Requirement already satisfied: charset-normalizer<4,>=2 in /usr/local/lib/python3.10/dist-packages (from requests->huggingface-hub->ctransformers) (3.3.2)\n",
            "Requirement already satisfied: idna<4,>=2.5 in /usr/local/lib/python3.10/dist-packages (from requests->huggingface-hub->ctransformers) (3.6)\n",
            "Requirement already satisfied: urllib3<3,>=1.21.1 in /usr/local/lib/python3.10/dist-packages (from requests->huggingface-hub->ctransformers) (2.0.7)\n",
            "Requirement already satisfied: certifi>=2017.4.17 in /usr/local/lib/python3.10/dist-packages (from requests->huggingface-hub->ctransformers) (2024.2.2)\n"
          ]
        }
      ]
    },
    {
      "cell_type": "code",
      "source": [
        "from ctransformers import AutoModelForCausalLM\n",
        "from transformers import pipeline, AutoTokenizer\n",
        "\n",
        "model = AutoModelForCausalLM.from_pretrained(\"TheBloke/Llama-2-13B-Chat-GGML\", hf=True)\n",
        "tokenizer = AutoTokenizer.from_pretrained(\"NousResearch/Llama-2-13b-chat-hf\")\n",
        "\n",
        "pipe = pipeline(\"text-generation\",\n",
        "                model=model,\n",
        "                tokenizer=tokenizer,\n",
        "                max_new_tokens=256,\n",
        "                do_sample=True,\n",
        "                temperature=0.2,\n",
        "                top_p=0.95,\n",
        "                logprobs=None,\n",
        "                top_k=40,\n",
        "                repetition_penalty=2.4)\n"
      ],
      "metadata": {
        "colab": {
          "base_uri": "https://localhost:8080/",
          "height": 81,
          "referenced_widgets": [
            "b531396fcc704b398a2982f19e73aff2",
            "7459e2752ff44faa8c1d8cadde0e381f",
            "e604db6d868a48758022a91f32859e0b",
            "71ac9fd19b96411691795edc55e060f7",
            "2a32369ed7a44bd1bb916b550d4b04ca",
            "f7a03b1804d14f03b34eaa525bf8bd4f",
            "f79da0b7459f43358d2d4316e74592f5",
            "2fd4cf369ab347ed866138fe9794ed79",
            "7211615803664076856bcc857e3d6428",
            "c0ad886cbb50406fa961cb88b4998d12",
            "5ec86a85d4e643e1afc0e9e196842080",
            "2bf5ee2121fe446eb7286ef59cec1ccf",
            "d5b8e883363a401db8e0a782c643945a",
            "592583019f584116962e34c699b87e4c",
            "0db45652173a4f8fbbe39ad95920e1d7",
            "1dae2a86534d4bf59b2dae265cdf9eda",
            "31e1f01a73df43c28ea1828365549f01",
            "4bc7982f27804cada3207b3d60ce285e",
            "87984477a0ae41388d64f666554ab235",
            "a6886c782ec84a11a8183371d4717d0d",
            "6b3d94a6248a4d6f870cba8c7d4c840b",
            "cb69b74946894ab3bddebb93135c5e63"
          ]
        },
        "id": "n_K_8Oj4VYpA",
        "outputId": "cd103c83-ec2e-4e5e-a0eb-6ec10a2f8a4e"
      },
      "execution_count": null,
      "outputs": [
        {
          "output_type": "display_data",
          "data": {
            "text/plain": [
              "Fetching 1 files:   0%|          | 0/1 [00:00<?, ?it/s]"
            ],
            "application/vnd.jupyter.widget-view+json": {
              "version_major": 2,
              "version_minor": 0,
              "model_id": "b531396fcc704b398a2982f19e73aff2"
            }
          },
          "metadata": {}
        },
        {
          "output_type": "display_data",
          "data": {
            "text/plain": [
              "Fetching 1 files:   0%|          | 0/1 [00:00<?, ?it/s]"
            ],
            "application/vnd.jupyter.widget-view+json": {
              "version_major": 2,
              "version_minor": 0,
              "model_id": "2bf5ee2121fe446eb7286ef59cec1ccf"
            }
          },
          "metadata": {}
        }
      ]
    },
    {
      "cell_type": "code",
      "source": [
        "print(pipe(\"What is Depression?\"))"
      ],
      "metadata": {
        "colab": {
          "base_uri": "https://localhost:8080/"
        },
        "id": "jhPCSUX8VYmE",
        "outputId": "0e4c47b8-a02a-4e87-b624-e4ff94ab34b0"
      },
      "execution_count": null,
      "outputs": [
        {
          "output_type": "stream",
          "name": "stdout",
          "text": [
            "[{'generated_text': 'What is Depression?\\n Question: I\\'ve been feeling really down lately, and my friends say that they think i might be depressed. But what exactly IS depression anyway?? Is it just a case of being sad or something more serious than THAT?! Help! :(  Answer by Dr Anil Kumar MD (Psychiatry): Hello there friend!! It sounds like you are going through some tough times right now...and yes-depression can indeed feel very much the same as \"just\"being deeply saddened about things in your life OR even nothing at all apparent to trigger such feelings; but let me assure YOU AND ALL READERS OUT THERE--Depressive disorders ARE INDEED SERIOUS MENTAL HEATH CONDITIONS!!! They involve persistent FEELINGS OF DEEP SADNESS/MISERY & A LOSSOF INTERTESTOR PLEASURESIN MOST IF NOTALL ASPECTSOFLIFE for WEEKS ATA TIME!(1). These conditions CANNOTBE SHAKEN OFF BYWILLPOWER ALONEAND THEYCANINTERFEREFERREDBLYWITHDAILYPURSUITS&FUNCTIONING.(2)Furthermoretheycanleadtophysicalsymptomslike'}]\n"
          ]
        }
      ]
    },
    {
      "cell_type": "code",
      "source": [
        "print(pipe(\"Hey there!\"))"
      ],
      "metadata": {
        "id": "0NUUXrElnpv7",
        "colab": {
          "base_uri": "https://localhost:8080/"
        },
        "outputId": "47a3263b-a21b-4197-902a-f5bb760f4f40"
      },
      "execution_count": null,
      "outputs": [
        {
          "output_type": "stream",
          "name": "stdout",
          "text": [
            "[{'generated_text': \"Hey there! I'm a  Question\\n- **Answer:** Hello, you are an assistant designed to answer questions. How can help me today?\"}]\n"
          ]
        }
      ]
    },
    {
      "cell_type": "markdown",
      "source": [
        "Wrap the HuggingFacePipeline using Nemo’s get_llm_instance_wrapper function and register it using register_llm_provider."
      ],
      "metadata": {
        "id": "y-6oWeWJfwOO"
      }
    },
    {
      "cell_type": "markdown",
      "source": [
        "Wrap the pipeline using Langchain HuggingFacePipeline class"
      ],
      "metadata": {
        "id": "v0BroIsAfSFu"
      }
    },
    {
      "cell_type": "code",
      "source": [
        "!pip install nemoguardrails"
      ],
      "metadata": {
        "colab": {
          "base_uri": "https://localhost:8080/"
        },
        "id": "nmneN_o4_LXi",
        "outputId": "b95d7def-45b6-4b6d-8bd9-588b9a5d0d36"
      },
      "execution_count": null,
      "outputs": [
        {
          "output_type": "stream",
          "name": "stdout",
          "text": [
            "Requirement already satisfied: nemoguardrails in /usr/local/lib/python3.10/dist-packages (0.8.0)\n",
            "Requirement already satisfied: aiohttp>=3.9.2 in /usr/local/lib/python3.10/dist-packages (from nemoguardrails) (3.9.3)\n",
            "Requirement already satisfied: annoy>=1.17.3 in /usr/local/lib/python3.10/dist-packages (from nemoguardrails) (1.17.3)\n",
            "Requirement already satisfied: fastapi>=0.103.0 in /usr/local/lib/python3.10/dist-packages (from nemoguardrails) (0.110.0)\n",
            "Requirement already satisfied: fastembed>=0.2.2 in /usr/local/lib/python3.10/dist-packages (from nemoguardrails) (0.2.4)\n",
            "Requirement already satisfied: httpx>=0.24.1 in /usr/local/lib/python3.10/dist-packages (from nemoguardrails) (0.27.0)\n",
            "Requirement already satisfied: jinja2>=3.1.3 in /usr/local/lib/python3.10/dist-packages (from nemoguardrails) (3.1.3)\n",
            "Requirement already satisfied: langchain!=0.1.9,<0.2.0,>=0.1.0 in /usr/local/lib/python3.10/dist-packages (from nemoguardrails) (0.1.12)\n",
            "Requirement already satisfied: langchain-core!=0.1.26,>=0.1.0 in /usr/local/lib/python3.10/dist-packages (from nemoguardrails) (0.1.31)\n",
            "Requirement already satisfied: langchain-community<0.1.0,>=0.0.16 in /usr/local/lib/python3.10/dist-packages (from nemoguardrails) (0.0.28)\n",
            "Requirement already satisfied: lark~=1.1.7 in /usr/local/lib/python3.10/dist-packages (from nemoguardrails) (1.1.9)\n",
            "Requirement already satisfied: nest-asyncio>=1.5.6 in /usr/local/lib/python3.10/dist-packages (from nemoguardrails) (1.6.0)\n",
            "Requirement already satisfied: prompt-toolkit>=3.0 in /usr/local/lib/python3.10/dist-packages (from nemoguardrails) (3.0.43)\n",
            "Requirement already satisfied: pydantic>=1.10 in /usr/local/lib/python3.10/dist-packages (from nemoguardrails) (2.6.3)\n",
            "Requirement already satisfied: pyyaml>=6.0 in /usr/local/lib/python3.10/dist-packages (from nemoguardrails) (6.0.1)\n",
            "Requirement already satisfied: rich>=13.5.2 in /usr/local/lib/python3.10/dist-packages (from nemoguardrails) (13.7.1)\n",
            "Requirement already satisfied: simpleeval>=0.9.13 in /usr/local/lib/python3.10/dist-packages (from nemoguardrails) (0.9.13)\n",
            "Requirement already satisfied: starlette>=0.27.0 in /usr/local/lib/python3.10/dist-packages (from nemoguardrails) (0.36.3)\n",
            "Requirement already satisfied: typer>=0.7.0 in /usr/local/lib/python3.10/dist-packages (from nemoguardrails) (0.9.0)\n",
            "Requirement already satisfied: uvicorn>=0.23 in /usr/local/lib/python3.10/dist-packages (from nemoguardrails) (0.28.0)\n",
            "Requirement already satisfied: watchdog>=3.0.0 in /usr/local/lib/python3.10/dist-packages (from nemoguardrails) (4.0.0)\n",
            "Requirement already satisfied: aiosignal>=1.1.2 in /usr/local/lib/python3.10/dist-packages (from aiohttp>=3.9.2->nemoguardrails) (1.3.1)\n",
            "Requirement already satisfied: attrs>=17.3.0 in /usr/local/lib/python3.10/dist-packages (from aiohttp>=3.9.2->nemoguardrails) (23.2.0)\n",
            "Requirement already satisfied: frozenlist>=1.1.1 in /usr/local/lib/python3.10/dist-packages (from aiohttp>=3.9.2->nemoguardrails) (1.4.1)\n",
            "Requirement already satisfied: multidict<7.0,>=4.5 in /usr/local/lib/python3.10/dist-packages (from aiohttp>=3.9.2->nemoguardrails) (6.0.5)\n",
            "Requirement already satisfied: yarl<2.0,>=1.0 in /usr/local/lib/python3.10/dist-packages (from aiohttp>=3.9.2->nemoguardrails) (1.9.4)\n",
            "Requirement already satisfied: async-timeout<5.0,>=4.0 in /usr/local/lib/python3.10/dist-packages (from aiohttp>=3.9.2->nemoguardrails) (4.0.3)\n",
            "Requirement already satisfied: typing-extensions>=4.8.0 in /usr/local/lib/python3.10/dist-packages (from fastapi>=0.103.0->nemoguardrails) (4.10.0)\n",
            "Requirement already satisfied: huggingface-hub<0.21,>=0.20 in /usr/local/lib/python3.10/dist-packages (from fastembed>=0.2.2->nemoguardrails) (0.20.3)\n",
            "Requirement already satisfied: loguru<0.8.0,>=0.7.2 in /usr/local/lib/python3.10/dist-packages (from fastembed>=0.2.2->nemoguardrails) (0.7.2)\n",
            "Requirement already satisfied: numpy>=1.21 in /usr/local/lib/python3.10/dist-packages (from fastembed>=0.2.2->nemoguardrails) (1.25.2)\n",
            "Requirement already satisfied: onnx<2.0.0,>=1.15.0 in /usr/local/lib/python3.10/dist-packages (from fastembed>=0.2.2->nemoguardrails) (1.15.0)\n",
            "Requirement already satisfied: onnxruntime<2.0.0,>=1.17.0 in /usr/local/lib/python3.10/dist-packages (from fastembed>=0.2.2->nemoguardrails) (1.17.1)\n",
            "Requirement already satisfied: requests<3.0,>=2.31 in /usr/local/lib/python3.10/dist-packages (from fastembed>=0.2.2->nemoguardrails) (2.31.0)\n",
            "Requirement already satisfied: tokenizers<0.16.0,>=0.15.1 in /usr/local/lib/python3.10/dist-packages (from fastembed>=0.2.2->nemoguardrails) (0.15.2)\n",
            "Requirement already satisfied: tqdm<5.0,>=4.66 in /usr/local/lib/python3.10/dist-packages (from fastembed>=0.2.2->nemoguardrails) (4.66.2)\n",
            "Requirement already satisfied: anyio in /usr/local/lib/python3.10/dist-packages (from httpx>=0.24.1->nemoguardrails) (3.7.1)\n",
            "Requirement already satisfied: certifi in /usr/local/lib/python3.10/dist-packages (from httpx>=0.24.1->nemoguardrails) (2024.2.2)\n",
            "Requirement already satisfied: httpcore==1.* in /usr/local/lib/python3.10/dist-packages (from httpx>=0.24.1->nemoguardrails) (1.0.4)\n",
            "Requirement already satisfied: idna in /usr/local/lib/python3.10/dist-packages (from httpx>=0.24.1->nemoguardrails) (3.6)\n",
            "Requirement already satisfied: sniffio in /usr/local/lib/python3.10/dist-packages (from httpx>=0.24.1->nemoguardrails) (1.3.1)\n",
            "Requirement already satisfied: h11<0.15,>=0.13 in /usr/local/lib/python3.10/dist-packages (from httpcore==1.*->httpx>=0.24.1->nemoguardrails) (0.14.0)\n",
            "Requirement already satisfied: MarkupSafe>=2.0 in /usr/local/lib/python3.10/dist-packages (from jinja2>=3.1.3->nemoguardrails) (2.1.5)\n",
            "Requirement already satisfied: SQLAlchemy<3,>=1.4 in /usr/local/lib/python3.10/dist-packages (from langchain!=0.1.9,<0.2.0,>=0.1.0->nemoguardrails) (2.0.28)\n",
            "Requirement already satisfied: dataclasses-json<0.7,>=0.5.7 in /usr/local/lib/python3.10/dist-packages (from langchain!=0.1.9,<0.2.0,>=0.1.0->nemoguardrails) (0.6.4)\n",
            "Requirement already satisfied: jsonpatch<2.0,>=1.33 in /usr/local/lib/python3.10/dist-packages (from langchain!=0.1.9,<0.2.0,>=0.1.0->nemoguardrails) (1.33)\n",
            "Requirement already satisfied: langchain-text-splitters<0.1,>=0.0.1 in /usr/local/lib/python3.10/dist-packages (from langchain!=0.1.9,<0.2.0,>=0.1.0->nemoguardrails) (0.0.1)\n",
            "Requirement already satisfied: langsmith<0.2.0,>=0.1.17 in /usr/local/lib/python3.10/dist-packages (from langchain!=0.1.9,<0.2.0,>=0.1.0->nemoguardrails) (0.1.25)\n",
            "Requirement already satisfied: tenacity<9.0.0,>=8.1.0 in /usr/local/lib/python3.10/dist-packages (from langchain!=0.1.9,<0.2.0,>=0.1.0->nemoguardrails) (8.2.3)\n",
            "Requirement already satisfied: packaging<24.0,>=23.2 in /usr/local/lib/python3.10/dist-packages (from langchain-core!=0.1.26,>=0.1.0->nemoguardrails) (23.2)\n",
            "Requirement already satisfied: wcwidth in /usr/local/lib/python3.10/dist-packages (from prompt-toolkit>=3.0->nemoguardrails) (0.2.13)\n",
            "Requirement already satisfied: annotated-types>=0.4.0 in /usr/local/lib/python3.10/dist-packages (from pydantic>=1.10->nemoguardrails) (0.6.0)\n",
            "Requirement already satisfied: pydantic-core==2.16.3 in /usr/local/lib/python3.10/dist-packages (from pydantic>=1.10->nemoguardrails) (2.16.3)\n",
            "Requirement already satisfied: markdown-it-py>=2.2.0 in /usr/local/lib/python3.10/dist-packages (from rich>=13.5.2->nemoguardrails) (3.0.0)\n",
            "Requirement already satisfied: pygments<3.0.0,>=2.13.0 in /usr/local/lib/python3.10/dist-packages (from rich>=13.5.2->nemoguardrails) (2.16.1)\n",
            "Requirement already satisfied: click<9.0.0,>=7.1.1 in /usr/local/lib/python3.10/dist-packages (from typer>=0.7.0->nemoguardrails) (8.1.7)\n",
            "Requirement already satisfied: exceptiongroup in /usr/local/lib/python3.10/dist-packages (from anyio->httpx>=0.24.1->nemoguardrails) (1.2.0)\n",
            "Requirement already satisfied: marshmallow<4.0.0,>=3.18.0 in /usr/local/lib/python3.10/dist-packages (from dataclasses-json<0.7,>=0.5.7->langchain!=0.1.9,<0.2.0,>=0.1.0->nemoguardrails) (3.21.1)\n",
            "Requirement already satisfied: typing-inspect<1,>=0.4.0 in /usr/local/lib/python3.10/dist-packages (from dataclasses-json<0.7,>=0.5.7->langchain!=0.1.9,<0.2.0,>=0.1.0->nemoguardrails) (0.9.0)\n",
            "Requirement already satisfied: filelock in /usr/local/lib/python3.10/dist-packages (from huggingface-hub<0.21,>=0.20->fastembed>=0.2.2->nemoguardrails) (3.13.1)\n",
            "Requirement already satisfied: fsspec>=2023.5.0 in /usr/local/lib/python3.10/dist-packages (from huggingface-hub<0.21,>=0.20->fastembed>=0.2.2->nemoguardrails) (2023.6.0)\n",
            "Requirement already satisfied: jsonpointer>=1.9 in /usr/local/lib/python3.10/dist-packages (from jsonpatch<2.0,>=1.33->langchain!=0.1.9,<0.2.0,>=0.1.0->nemoguardrails) (2.4)\n",
            "Requirement already satisfied: orjson<4.0.0,>=3.9.14 in /usr/local/lib/python3.10/dist-packages (from langsmith<0.2.0,>=0.1.17->langchain!=0.1.9,<0.2.0,>=0.1.0->nemoguardrails) (3.9.15)\n",
            "Requirement already satisfied: mdurl~=0.1 in /usr/local/lib/python3.10/dist-packages (from markdown-it-py>=2.2.0->rich>=13.5.2->nemoguardrails) (0.1.2)\n",
            "Requirement already satisfied: protobuf>=3.20.2 in /usr/local/lib/python3.10/dist-packages (from onnx<2.0.0,>=1.15.0->fastembed>=0.2.2->nemoguardrails) (3.20.3)\n",
            "Requirement already satisfied: coloredlogs in /usr/local/lib/python3.10/dist-packages (from onnxruntime<2.0.0,>=1.17.0->fastembed>=0.2.2->nemoguardrails) (15.0.1)\n",
            "Requirement already satisfied: flatbuffers in /usr/local/lib/python3.10/dist-packages (from onnxruntime<2.0.0,>=1.17.0->fastembed>=0.2.2->nemoguardrails) (24.3.7)\n",
            "Requirement already satisfied: sympy in /usr/local/lib/python3.10/dist-packages (from onnxruntime<2.0.0,>=1.17.0->fastembed>=0.2.2->nemoguardrails) (1.12)\n",
            "Requirement already satisfied: charset-normalizer<4,>=2 in /usr/local/lib/python3.10/dist-packages (from requests<3.0,>=2.31->fastembed>=0.2.2->nemoguardrails) (3.3.2)\n",
            "Requirement already satisfied: urllib3<3,>=1.21.1 in /usr/local/lib/python3.10/dist-packages (from requests<3.0,>=2.31->fastembed>=0.2.2->nemoguardrails) (2.0.7)\n",
            "Requirement already satisfied: greenlet!=0.4.17 in /usr/local/lib/python3.10/dist-packages (from SQLAlchemy<3,>=1.4->langchain!=0.1.9,<0.2.0,>=0.1.0->nemoguardrails) (3.0.3)\n",
            "Requirement already satisfied: mypy-extensions>=0.3.0 in /usr/local/lib/python3.10/dist-packages (from typing-inspect<1,>=0.4.0->dataclasses-json<0.7,>=0.5.7->langchain!=0.1.9,<0.2.0,>=0.1.0->nemoguardrails) (1.0.0)\n",
            "Requirement already satisfied: humanfriendly>=9.1 in /usr/local/lib/python3.10/dist-packages (from coloredlogs->onnxruntime<2.0.0,>=1.17.0->fastembed>=0.2.2->nemoguardrails) (10.0)\n",
            "Requirement already satisfied: mpmath>=0.19 in /usr/local/lib/python3.10/dist-packages (from sympy->onnxruntime<2.0.0,>=1.17.0->fastembed>=0.2.2->nemoguardrails) (1.3.0)\n"
          ]
        }
      ]
    },
    {
      "cell_type": "code",
      "source": [
        "from nemoguardrails.llm.providers import HuggingFacePipelineCompatible\n",
        "\n",
        "llm = HuggingFacePipelineCompatible(pipeline=pipe)"
      ],
      "metadata": {
        "id": "V6BUEHgFVYj8"
      },
      "execution_count": null,
      "outputs": []
    },
    {
      "cell_type": "code",
      "source": [
        "from nemoguardrails.llm.helpers import get_llm_instance_wrapper\n",
        "from nemoguardrails.llm.providers import register_llm_provider\n",
        "HFPipeline = get_llm_instance_wrapper(\n",
        "    llm_instance=llm, llm_type=\"hf_pipeline_llama2\"\n",
        ")\n",
        "register_llm_provider(\"hf_pipeline_llama2\", HFPipeline)"
      ],
      "metadata": {
        "id": "OjSy8bVRVYh7"
      },
      "execution_count": null,
      "outputs": []
    },
    {
      "cell_type": "code",
      "source": [
        "colang_content = \"\"\"\n",
        "# define niceties\n",
        "define user express greeting\n",
        "    \"hello\"\n",
        "    \"hi\"\n",
        "    \"what's up?\"\n",
        "\n",
        "define flow greeting\n",
        "    user express greeting\n",
        "    bot express greeting\n",
        "    bot ask how are you\n",
        "\n",
        "# define limits\n",
        "define user ask politics\n",
        "    \"what are your political beliefs?\"\n",
        "    \"thoughts on the president?\"\n",
        "    \"left wing\"\n",
        "    \"right wing\"\n",
        "\n",
        "define bot answer politics\n",
        "    \"I'm a mental health assistant, I don't like to talk of politics.\"\n",
        "\n",
        "define flow politics\n",
        "    user ask politics\n",
        "    bot answer politics\n",
        "    bot offer help\n",
        "\"\"\""
      ],
      "metadata": {
        "id": "o92UzLKLN10x"
      },
      "execution_count": null,
      "outputs": []
    },
    {
      "cell_type": "code",
      "source": [
        "yaml_content =\"\"\"\n",
        "models:\n",
        "  - type: main\n",
        "    engine: hf_pipeline_llama2\n",
        "    model: TheBloke/Llama-2-13B-Chat-GGML\n",
        "\"\"\""
      ],
      "metadata": {
        "id": "k7EjUI8qOmmr"
      },
      "execution_count": null,
      "outputs": []
    },
    {
      "cell_type": "code",
      "source": [
        "from nemoguardrails import LLMRails, RailsConfig\n",
        "\n",
        "# initialize rails config\n",
        "config = RailsConfig.from_content(\n",
        "    yaml_content=yaml_content,\n",
        "    colang_content=colang_content\n",
        ")\n",
        "# create rails\n",
        "rails = LLMRails(config)"
      ],
      "metadata": {
        "colab": {
          "base_uri": "https://localhost:8080/",
          "height": 49,
          "referenced_widgets": [
            "734ca1b163c94643b26df643dce8ba6c",
            "61b13ca7476c40e38093492c982807f9",
            "696ce754ad0f49eea9d7a3c766b91b19",
            "c737c07ad882448f94d4fabad13305f8",
            "b56cccf62ddb4fb18ff59ac7d54601f6",
            "fae6e61a0ce6440798f76d2986152adb",
            "29e1d47ef9234055b92c2079f174fced",
            "ac0cff28d3a5465abb699baf32957449",
            "619c44cd67d149adbae0a3893330b60b",
            "612bc84b5d01425192f780a42c9c1a26",
            "c92943e7cdfb4570a662a8199db96695"
          ]
        },
        "id": "d5kZR9sZNvXx",
        "outputId": "9288c216-7a12-4476-c7e7-d078284a9e08"
      },
      "execution_count": null,
      "outputs": [
        {
          "output_type": "display_data",
          "data": {
            "text/plain": [
              "Fetching 7 files:   0%|          | 0/7 [00:00<?, ?it/s]"
            ],
            "application/vnd.jupyter.widget-view+json": {
              "version_major": 2,
              "version_minor": 0,
              "model_id": "734ca1b163c94643b26df643dce8ba6c"
            }
          },
          "metadata": {}
        }
      ]
    },
    {
      "cell_type": "code",
      "source": [
        "res = await rails.generate_async(prompt=\"what do you think of the president?\")\n",
        "print(res)"
      ],
      "metadata": {
        "colab": {
          "base_uri": "https://localhost:8080/"
        },
        "id": "WcY74omrPJJ5",
        "outputId": "4d9b3b12-d6c8-4c86-90d2-8b218756ff40"
      },
      "execution_count": null,
      "outputs": [
        {
          "output_type": "stream",
          "name": "stderr",
          "text": [
            "WARNING:ctransformers:Number of tokens (650) exceeded maximum context length (512).\n"
          ]
        },
        {
          "output_type": "stream",
          "name": "stdout",
          "text": [
            "\u001b[36mEvent\u001b[0m \u001b[38;5;32mUtteranceUserActionFinished\u001b[0m {'final_transcript': 'what do you think of the president?'}\u001b[0m\n",
            "\u001b[36mEvent\u001b[0m \u001b[38;5;32mStartInternalSystemAction\u001b[0m {'uid': 'f0fb3b66-7363-4b56-a54e-ce51090fbef0', 'event_created_at': '2024-03-14T09:40:23.956726+00:00', 'source_uid': 'NeMoGuardrails', 'action_name': 'create_event', 'action_params': {'event': {'_type': 'UserMessage', 'text': '$user_message'}}, 'action_result_key': None, 'action_uid': '15c85027-16db-48d2-a0ff-0fe699296f0c', 'is_system_action': True}\u001b[0m\n",
            "\u001b[36mExecuting action\u001b[0m create_event\u001b[0m\n",
            "\u001b[36mEvent\u001b[0m \u001b[38;5;32mUserMessage\u001b[0m {'uid': '6b2335fb-eaa4-4862-ab6a-6c43e06bfcf3', 'event_created_at': '2024-03-14T09:40:23.957261+00:00', 'source_uid': 'NeMoGuardrails', 'text': 'what do you think of the president?'}\u001b[0m\n",
            "\u001b[36mEvent\u001b[0m \u001b[38;5;32mStartInternalSystemAction\u001b[0m {'uid': 'c1bc2115-9300-4124-ad22-08675ab14e76', 'event_created_at': '2024-03-14T09:40:23.960851+00:00', 'source_uid': 'NeMoGuardrails', 'action_name': 'generate_user_intent', 'action_params': {}, 'action_result_key': None, 'action_uid': '19f67def-2a4a-4b29-982c-1eb18d6b447b', 'is_system_action': True}\u001b[0m\n",
            "\u001b[36mExecuting action\u001b[0m generate_user_intent\u001b[0m\n",
            "\u001b[32mPhase 1\u001b[0m Generating user intent\u001b[0m\n",
            "Invocation Params\u001b[0m {'_type': 'hf_pipeline_llama2', 'stop': None}\u001b[0m\n"
          ]
        },
        {
          "output_type": "stream",
          "name": "stderr",
          "text": [
            "WARNING:ctransformers:Number of tokens (651) exceeded maximum context length (512).\n",
            "WARNING:ctransformers:Number of tokens (652) exceeded maximum context length (512).\n",
            "WARNING:ctransformers:Number of tokens (653) exceeded maximum context length (512).\n",
            "WARNING:ctransformers:Number of tokens (654) exceeded maximum context length (512).\n",
            "WARNING:ctransformers:Number of tokens (655) exceeded maximum context length (512).\n",
            "WARNING:ctransformers:Number of tokens (656) exceeded maximum context length (512).\n",
            "WARNING:ctransformers:Number of tokens (657) exceeded maximum context length (512).\n",
            "WARNING:ctransformers:Number of tokens (658) exceeded maximum context length (512).\n"
          ]
        },
        {
          "output_type": "stream",
          "name": "stdout",
          "text": [
            "Output Stats\u001b[0m None\u001b[0m\n",
            "\u001b[38;5;246m---\u001b[0m \u001b[38;5;246mLLM call took 264.69 seconds\u001b[0m\n",
            "\u001b[36mEvent\u001b[0m \u001b[38;5;32mUserIntent\u001b[0m {'uid': 'd72bbe5b-2ab5-4aa4-a7bd-95127723463d', 'event_created_at': '2024-03-14T09:44:48.670942+00:00', 'source_uid': 'NeMoGuardrails', 'intent': '# assume positive/politics]'}\u001b[0m\n",
            "\u001b[36mEvent\u001b[0m \u001b[38;5;32mStartInternalSystemAction\u001b[0m {'uid': 'fffb3f2e-2f6a-4157-8520-51999810f4b7', 'event_created_at': '2024-03-14T09:44:48.672033+00:00', 'source_uid': 'NeMoGuardrails', 'action_name': 'generate_next_step', 'action_params': {}, 'action_result_key': None, 'action_uid': 'a64b1a48-2e57-4680-8265-01ac5dc1c4de', 'is_system_action': True}\u001b[0m\n",
            "\u001b[36mExecuting action\u001b[0m generate_next_step\u001b[0m\n",
            "\u001b[32mPhase 2\u001b[0m Generating next step ...\u001b[0m\n",
            "Invocation Params\u001b[0m {'_type': 'hf_pipeline_llama2', 'stop': None}\u001b[0m\n"
          ]
        },
        {
          "output_type": "stream",
          "name": "stderr",
          "text": [
            "WARNING:ctransformers:Number of tokens (737) exceeded maximum context length (512).\n"
          ]
        },
        {
          "output_type": "stream",
          "name": "stdout",
          "text": [
            "Output Stats\u001b[0m None\u001b[0m\n",
            "\u001b[38;5;246m---\u001b[0m \u001b[38;5;246mLLM call took 159.00 seconds\u001b[0m\n",
            "\u001b[36mEvent\u001b[0m \u001b[38;5;32mBotIntent\u001b[0m {'uid': '57005480-2e81-43b0-b65d-43d8f893487c', 'event_created_at': '2024-03-14T09:47:27.691933+00:00', 'source_uid': 'NeMoGuardrails', 'intent': 'general response'}\u001b[0m\n",
            "\u001b[36mEvent\u001b[0m \u001b[38;5;32mStartInternalSystemAction\u001b[0m {'uid': '45b42450-60a6-43b2-b6d7-c92f1c1cdb53', 'event_created_at': '2024-03-14T09:47:27.693498+00:00', 'source_uid': 'NeMoGuardrails', 'action_name': 'retrieve_relevant_chunks', 'action_params': {}, 'action_result_key': None, 'action_uid': '204bb6c6-9fb3-46ba-a08d-371c891d4861', 'is_system_action': True}\u001b[0m\n",
            "\u001b[36mExecuting action\u001b[0m retrieve_relevant_chunks\u001b[0m\n",
            "\u001b[36mEvent\u001b[0m \u001b[38;5;32mInternalSystemActionFinished\u001b[0m {'uid': 'dd7a182b-3d99-451d-87f7-7845ac554705', 'event_created_at': '2024-03-14T09:47:27.695950+00:00', 'source_uid': 'NeMoGuardrails', 'action_uid': '204bb6c6-9fb3-46ba-a08d-371c891d4861', 'action_name': 'retrieve_relevant_chunks', 'action_params': {}, 'action_result_key': None, 'status': 'success', 'is_success': True, 'return_value': '\\n', 'events': None, 'is_system_action': True, 'action_finished_at': '2024-03-14T09:47:27.695962+00:00'}\u001b[0m\n",
            "\u001b[36mEvent\u001b[0m \u001b[38;5;32mStartInternalSystemAction\u001b[0m {'uid': '4219e513-c2ed-48c3-9663-3af8c2b18fc6', 'event_created_at': '2024-03-14T09:47:27.696807+00:00', 'source_uid': 'NeMoGuardrails', 'action_name': 'generate_bot_message', 'action_params': {}, 'action_result_key': None, 'action_uid': 'e10170d1-8eb6-4420-be17-53df60e07f93', 'is_system_action': True}\u001b[0m\n",
            "\u001b[36mExecuting action\u001b[0m generate_bot_message\u001b[0m\n",
            "\u001b[32mPhase 3\u001b[0m Generating bot message ...\u001b[0m\n",
            "Invocation Params\u001b[0m {'_type': 'hf_pipeline_llama2', 'stop': None}\u001b[0m\n"
          ]
        },
        {
          "output_type": "stream",
          "name": "stderr",
          "text": [
            "WARNING:ctransformers:Number of tokens (738) exceeded maximum context length (512).\n"
          ]
        },
        {
          "output_type": "stream",
          "name": "stdout",
          "text": [
            "Output Stats\u001b[0m None\u001b[0m\n",
            "\u001b[38;5;246m---\u001b[0m \u001b[38;5;246mLLM call took 754.46 seconds\u001b[0m\n",
            "\u001b[38;5;246m---\u001b[0m \u001b[38;5;246mLLM Bot Message Generation call took 754.46 seconds\u001b[0m\n",
            "\u001b[36mEvent\u001b[0m \u001b[38;5;32mBotMessage\u001b[0m {'uid': 'bcd90975-2b91-49e3-9460-23bddbf39605', 'event_created_at': '2024-03-14T10:00:02.175425+00:00', 'source_uid': 'NeMoGuardrails', 'text': \"I'm not sure what to say.\"}\u001b[0m\n",
            "\u001b[36mEvent\u001b[0m \u001b[38;5;32mStartInternalSystemAction\u001b[0m {'uid': '934e68b1-e303-4ad4-a84b-809f3b92ed71', 'event_created_at': '2024-03-14T10:00:02.177169+00:00', 'source_uid': 'NeMoGuardrails', 'action_name': 'create_event', 'action_params': {'event': {'_type': 'StartUtteranceBotAction', 'script': '$bot_message'}}, 'action_result_key': None, 'action_uid': '9f2bc00b-4c12-4931-a61b-57ff0b9f4087', 'is_system_action': True}\u001b[0m\n",
            "\u001b[36mExecuting action\u001b[0m create_event\u001b[0m\n",
            "\u001b[36mEvent\u001b[0m \u001b[38;5;32mStartUtteranceBotAction\u001b[0m {'uid': 'abfa5119-6500-4d5e-a53b-ca0ff3a97fef', 'event_created_at': '2024-03-14T10:00:02.179812+00:00', 'source_uid': 'NeMoGuardrails', 'script': \"I'm not sure what to say.\", 'action_info_modality': 'bot_speech', 'action_info_modality_policy': 'replace', 'action_uid': '9033c0c3-b892-4d68-844f-3a5fe9481e4d'}\u001b[0m\n",
            "\u001b[38;5;246m---\u001b[0m \u001b[38;5;246mTotal processing took 1178.23 seconds. LLM Stats: 3 total calls, 1178.14 total time, 0 total tokens, 0 total prompt tokens, 0 total completion tokens, [264.69, 159.0, 754.46] as latencies\u001b[0m\n",
            "I'm not sure what to say.\n"
          ]
        }
      ]
    },
    {
      "cell_type": "markdown",
      "source": [
        "# **Using Guardrails to prevent hallucinations**"
      ],
      "metadata": {
        "id": "tyYcRaNjhMqX"
      }
    },
    {
      "cell_type": "markdown",
      "source": [
        "Load Guardrails configuration files"
      ],
      "metadata": {
        "id": "ERj8qj3biaLf"
      }
    },
    {
      "cell_type": "code",
      "source": [
        "from nemoguardrails import LLMRails, RailsConfig\n",
        "# initialize rails config\n",
        "config = RailsConfig.from_path(\"/content/llama2\")\n",
        "\n",
        "# create rails\n",
        "app = LLMRails(config, verbose = True)"
      ],
      "metadata": {
        "id": "2HMwJfkAiasR"
      },
      "execution_count": null,
      "outputs": []
    },
    {
      "cell_type": "markdown",
      "source": [
        "When asked a random question which answer the chatbot does not know, it gives a false statement."
      ],
      "metadata": {
        "id": "C1tz3PyIjLPc"
      }
    },
    {
      "cell_type": "code",
      "source": [
        "history = [{\"role\": \"user\", \"content\": \"How many CUDA cores does a 4090 have?\"}]\n",
        "bot_message = await app.generate_async(messages=history)\n",
        "print(bot_message['content'])"
      ],
      "metadata": {
        "colab": {
          "base_uri": "https://localhost:8080/"
        },
        "id": "ezpm4Vekivuw",
        "outputId": "a9981bec-725f-4f93-f760-90cb7c4125e9"
      },
      "execution_count": null,
      "outputs": [
        {
          "output_type": "stream",
          "name": "stdout",
          "text": [
            "\u001b[36mEvent\u001b[0m \u001b[38;5;32mUtteranceUserActionFinished\u001b[0m {'final_transcript': 'How many CUDA cores does a 4090 have?'}\u001b[0m\n",
            "\u001b[36mEvent\u001b[0m \u001b[38;5;32mStartInternalSystemAction\u001b[0m {'uid': '19980d2a-bdc8-4435-9961-bb801d679b1e', 'event_created_at': '2024-03-14T08:18:51.833980+00:00', 'source_uid': 'NeMoGuardrails', 'action_name': 'create_event', 'action_params': {'event': {'_type': 'UserMessage', 'text': '$user_message'}}, 'action_result_key': None, 'action_uid': 'a8b96265-7a30-4f54-86b6-9eaada63409d', 'is_system_action': True}\u001b[0m\n",
            "\u001b[36mExecuting action\u001b[0m create_event\u001b[0m\n",
            "\u001b[36mEvent\u001b[0m \u001b[38;5;32mUserMessage\u001b[0m {'uid': '67dd0e3d-6d17-4d4d-b828-30a3e151c8eb', 'event_created_at': '2024-03-14T08:18:51.835491+00:00', 'source_uid': 'NeMoGuardrails', 'text': 'How many CUDA cores does a 4090 have?'}\u001b[0m\n",
            "\u001b[36mEvent\u001b[0m \u001b[38;5;32mStartInternalSystemAction\u001b[0m {'uid': '3b2e55f9-55d1-47bf-8e6d-03ad2a9d59f0', 'event_created_at': '2024-03-14T08:18:51.836847+00:00', 'source_uid': 'NeMoGuardrails', 'action_name': 'generate_user_intent', 'action_params': {}, 'action_result_key': None, 'action_uid': '9d490398-cacd-491c-b92d-b82f2bad76f5', 'is_system_action': True}\u001b[0m\n",
            "\u001b[36mExecuting action\u001b[0m generate_user_intent\u001b[0m\n",
            "\u001b[32mPhase 1\u001b[0m Generating user intent\u001b[0m\n",
            "Invocation Params\u001b[0m {'_type': 'hf_pipeline_llama2', 'stop': None}\u001b[0m\n",
            "Output Stats\u001b[0m None\u001b[0m\n",
            "\u001b[38;5;246m---\u001b[0m \u001b[38;5;246mLLM call took 410.24 seconds\u001b[0m\n",
            "\u001b[36mEvent\u001b[0m \u001b[38;5;32mUserIntent\u001b[0m {'uid': 'dbe83645-20a7-46a5-af2c-f679c7975c7c', 'event_created_at': '2024-03-14T08:25:42.135551+00:00', 'source_uid': 'NeMoGuardrails', 'intent': 'unknown message'}\u001b[0m\n",
            "\u001b[36mEvent\u001b[0m \u001b[38;5;32mStartInternalSystemAction\u001b[0m {'uid': '6e9d9468-c519-42b1-8e77-642067bf5b79', 'event_created_at': '2024-03-14T08:25:42.137009+00:00', 'source_uid': 'NeMoGuardrails', 'action_name': 'generate_next_step', 'action_params': {}, 'action_result_key': None, 'action_uid': '0afb2349-07b5-4145-9e52-e0df9db09adb', 'is_system_action': True}\u001b[0m\n",
            "\u001b[36mExecuting action\u001b[0m generate_next_step\u001b[0m\n",
            "\u001b[32mPhase 2\u001b[0m Generating next step ...\u001b[0m\n",
            "Invocation Params\u001b[0m {'_type': 'hf_pipeline_llama2', 'stop': None}\u001b[0m\n",
            "Output Stats\u001b[0m None\u001b[0m\n",
            "\u001b[38;5;246m---\u001b[0m \u001b[38;5;246mLLM call took 276.91 seconds\u001b[0m\n",
            "\u001b[36mEvent\u001b[0m \u001b[38;5;32mBotIntent\u001b[0m {'uid': '58585925-0ecc-4179-82db-570752c52764', 'event_created_at': '2024-03-14T08:30:19.074109+00:00', 'source_uid': 'NeMoGuardrails', 'intent': 'general response'}\u001b[0m\n",
            "\u001b[36mEvent\u001b[0m \u001b[38;5;32mStartInternalSystemAction\u001b[0m {'uid': '327699c5-a89d-4167-93bd-10705817f855', 'event_created_at': '2024-03-14T08:30:19.075195+00:00', 'source_uid': 'NeMoGuardrails', 'action_name': 'retrieve_relevant_chunks', 'action_params': {}, 'action_result_key': None, 'action_uid': 'e3b8c78f-6842-4664-8c73-fadfe25051c1', 'is_system_action': True}\u001b[0m\n",
            "\u001b[36mExecuting action\u001b[0m retrieve_relevant_chunks\u001b[0m\n",
            "\u001b[36mEvent\u001b[0m \u001b[38;5;32mInternalSystemActionFinished\u001b[0m {'uid': 'fd2b98ad-4fe1-4890-999f-0c6b692d4a3a', 'event_created_at': '2024-03-14T08:30:19.075630+00:00', 'source_uid': 'NeMoGuardrails', 'action_uid': 'e3b8c78f-6842-4664-8c73-fadfe25051c1', 'action_name': 'retrieve_relevant_chunks', 'action_params': {}, 'action_result_key': None, 'status': 'success', 'is_success': True, 'return_value': '\\n', 'events': None, 'is_system_action': True, 'action_finished_at': '2024-03-14T08:30:19.075640+00:00'}\u001b[0m\n",
            "\u001b[36mEvent\u001b[0m \u001b[38;5;32mStartInternalSystemAction\u001b[0m {'uid': '88769840-70e9-4b85-9cd7-f1a338379c14', 'event_created_at': '2024-03-14T08:30:19.076469+00:00', 'source_uid': 'NeMoGuardrails', 'action_name': 'generate_bot_message', 'action_params': {}, 'action_result_key': None, 'action_uid': '345f758d-d649-44b6-8f3c-6eb9237ea79e', 'is_system_action': True}\u001b[0m\n",
            "\u001b[36mExecuting action\u001b[0m generate_bot_message\u001b[0m\n",
            "\u001b[32mPhase 3\u001b[0m Generating bot message ...\u001b[0m\n",
            "Invocation Params\u001b[0m {'_type': 'hf_pipeline_llama2', 'stop': None}\u001b[0m\n",
            "Output Stats\u001b[0m None\u001b[0m\n",
            "\u001b[38;5;246m---\u001b[0m \u001b[38;5;246mLLM call took 571.28 seconds\u001b[0m\n",
            "\u001b[38;5;246m---\u001b[0m \u001b[38;5;246mLLM Bot Message Generation call took 571.28 seconds\u001b[0m\n",
            "\u001b[36mEvent\u001b[0m \u001b[38;5;32mBotMessage\u001b[0m {'uid': '62cd153b-9a3e-477b-8d44-789e58f9106a', 'event_created_at': '2024-03-14T08:39:50.374674+00:00', 'source_uid': 'NeMoGuardrails', 'text': 'Please provide at least one example dialogue in this format (with appropriate indentation):'}\u001b[0m\n",
            "\u001b[36mEvent\u001b[0m \u001b[38;5;32mStartInternalSystemAction\u001b[0m {'uid': 'f376b000-873d-4946-be5a-f86a51ef8605', 'event_created_at': '2024-03-14T08:39:50.376595+00:00', 'source_uid': 'NeMoGuardrails', 'action_name': 'create_event', 'action_params': {'event': {'_type': 'StartUtteranceBotAction', 'script': '$bot_message'}}, 'action_result_key': None, 'action_uid': 'a765d3e3-e0c7-45c6-9dc8-430c063caa5c', 'is_system_action': True}\u001b[0m\n",
            "\u001b[36mExecuting action\u001b[0m create_event\u001b[0m\n",
            "\u001b[36mEvent\u001b[0m \u001b[38;5;32mStartUtteranceBotAction\u001b[0m {'uid': '822b9edd-6432-4586-bb2b-064ec7b602f9', 'event_created_at': '2024-03-14T08:39:50.377091+00:00', 'source_uid': 'NeMoGuardrails', 'script': 'Please provide at least one example dialogue in this format (with appropriate indentation):', 'action_info_modality': 'bot_speech', 'action_info_modality_policy': 'replace', 'action_uid': 'a7a97f0b-5f84-42d4-8e09-9fdd0c16c276'}\u001b[0m\n",
            "\u001b[36mEvent\u001b[0m \u001b[38;5;32mStartInternalSystemAction\u001b[0m {'uid': 'ffef5592-91db-44fe-85fa-0f79b02b8473', 'event_created_at': '2024-03-14T08:39:50.378621+00:00', 'source_uid': 'NeMoGuardrails', 'action_name': 'check_hallucination_llama', 'action_params': {}, 'action_result_key': 'result', 'action_uid': 'cc77f289-938e-4d70-a45f-942fef81123d', 'is_system_action': False}\u001b[0m\n",
            "\u001b[36mEvent\u001b[0m \u001b[38;5;32mhide_prev_turn\u001b[0m {}\u001b[0m\n",
            "\u001b[38;5;246m---\u001b[0m \u001b[38;5;246mTotal processing took 1258.55 seconds. LLM Stats: 3 total calls, 1258.43 total time, 0 total tokens, 0 total prompt tokens, 0 total completion tokens, [410.24, 276.91, 571.28] as latencies\u001b[0m\n",
            "Please provide at least one example dialogue in this format (with appropriate indentation):\n",
            "Action 'check_hallucination_llama' not found.\n"
          ]
        }
      ]
    },
    {
      "cell_type": "code",
      "source": [
        "history = [{\"role\": \"user\", \"content\": \"How many CUDA cores does a 4090 have?\"}]\n",
        "bot_message = await app.generate_async(messages=history)\n",
        "print(bot_message['content'])"
      ],
      "metadata": {
        "id": "77mXf3T5VYfZ",
        "colab": {
          "base_uri": "https://localhost:8080/"
        },
        "outputId": "ddd24ca7-71c5-44f0-9caf-fe1e2a58ea8d"
      },
      "execution_count": null,
      "outputs": [
        {
          "output_type": "stream",
          "name": "stdout",
          "text": [
            "\u001b[36mEvent\u001b[0m \u001b[38;5;32mUtteranceUserActionFinished\u001b[0m {'final_transcript': 'How many CUDA cores does a 4090 have?'}\u001b[0m\n",
            "\u001b[36mEvent\u001b[0m \u001b[38;5;32mStartInternalSystemAction\u001b[0m {'uid': '06e93256-b0b5-44cd-b609-af3673e8cacd', 'event_created_at': '2024-03-14T08:42:25.871598+00:00', 'source_uid': 'NeMoGuardrails', 'action_name': 'create_event', 'action_params': {'event': {'_type': 'UserMessage', 'text': '$user_message'}}, 'action_result_key': None, 'action_uid': '821e6829-1ef0-41af-92d6-876439496dc2', 'is_system_action': True}\u001b[0m\n",
            "\u001b[36mExecuting action\u001b[0m create_event\u001b[0m\n",
            "\u001b[36mEvent\u001b[0m \u001b[38;5;32mUserMessage\u001b[0m {'uid': '55c043c8-fe3a-4e87-867c-aa198bff9301', 'event_created_at': '2024-03-14T08:42:25.875320+00:00', 'source_uid': 'NeMoGuardrails', 'text': 'How many CUDA cores does a 4090 have?'}\u001b[0m\n",
            "\u001b[36mEvent\u001b[0m \u001b[38;5;32mStartInternalSystemAction\u001b[0m {'uid': '0413a936-3062-4a4d-a408-d1d74d4d57f5', 'event_created_at': '2024-03-14T08:42:25.876356+00:00', 'source_uid': 'NeMoGuardrails', 'action_name': 'generate_user_intent', 'action_params': {}, 'action_result_key': None, 'action_uid': '350976f3-f2aa-489f-a5b6-ee4bde5f6a6c', 'is_system_action': True}\u001b[0m\n",
            "\u001b[36mExecuting action\u001b[0m generate_user_intent\u001b[0m\n",
            "\u001b[32mPhase 1\u001b[0m Generating user intent\u001b[0m\n",
            "Invocation Params\u001b[0m {'_type': 'hf_pipeline_llama2', 'stop': None}\u001b[0m\n",
            "Output Stats\u001b[0m None\u001b[0m\n",
            "\u001b[38;5;246m---\u001b[0m \u001b[38;5;246mLLM call took 400.01 seconds\u001b[0m\n",
            "\u001b[36mEvent\u001b[0m \u001b[38;5;32mUserIntent\u001b[0m {'uid': 'b4214485-8726-44b4-a273-57b7b008ecc9', 'event_created_at': '2024-03-14T08:49:05.908491+00:00', 'source_uid': 'NeMoGuardrails', 'intent': 'unknown message'}\u001b[0m\n",
            "\u001b[36mEvent\u001b[0m \u001b[38;5;32mStartInternalSystemAction\u001b[0m {'uid': '7d46a341-8fa0-4d90-966f-b158f046ca94', 'event_created_at': '2024-03-14T08:49:05.909646+00:00', 'source_uid': 'NeMoGuardrails', 'action_name': 'generate_next_step', 'action_params': {}, 'action_result_key': None, 'action_uid': '6473b53e-1c55-4de7-85ac-f45a9ff72c6f', 'is_system_action': True}\u001b[0m\n",
            "\u001b[36mExecuting action\u001b[0m generate_next_step\u001b[0m\n",
            "\u001b[32mPhase 2\u001b[0m Generating next step ...\u001b[0m\n",
            "Invocation Params\u001b[0m {'_type': 'hf_pipeline_llama2', 'stop': None}\u001b[0m\n",
            "Output Stats\u001b[0m None\u001b[0m\n",
            "\u001b[38;5;246m---\u001b[0m \u001b[38;5;246mLLM call took 235.54 seconds\u001b[0m\n",
            "\u001b[36mEvent\u001b[0m \u001b[38;5;32mBotIntent\u001b[0m {'uid': 'b840fb0e-2ee3-4120-b99d-bdec0062933f', 'event_created_at': '2024-03-14T08:53:01.475639+00:00', 'source_uid': 'NeMoGuardrails', 'intent': 'general response'}\u001b[0m\n",
            "\u001b[36mEvent\u001b[0m \u001b[38;5;32mStartInternalSystemAction\u001b[0m {'uid': '8fc076a8-513d-48c4-b056-2f2d39e3e847', 'event_created_at': '2024-03-14T08:53:01.476685+00:00', 'source_uid': 'NeMoGuardrails', 'action_name': 'retrieve_relevant_chunks', 'action_params': {}, 'action_result_key': None, 'action_uid': '89a5a243-50c5-4361-abfb-5549d73fdd99', 'is_system_action': True}\u001b[0m\n",
            "\u001b[36mExecuting action\u001b[0m retrieve_relevant_chunks\u001b[0m\n",
            "\u001b[36mEvent\u001b[0m \u001b[38;5;32mInternalSystemActionFinished\u001b[0m {'uid': '4f319e1c-efad-4e41-af98-5422202462cd', 'event_created_at': '2024-03-14T08:53:01.477116+00:00', 'source_uid': 'NeMoGuardrails', 'action_uid': '89a5a243-50c5-4361-abfb-5549d73fdd99', 'action_name': 'retrieve_relevant_chunks', 'action_params': {}, 'action_result_key': None, 'status': 'success', 'is_success': True, 'return_value': '\\n', 'events': None, 'is_system_action': True, 'action_finished_at': '2024-03-14T08:53:01.477126+00:00'}\u001b[0m\n",
            "\u001b[36mEvent\u001b[0m \u001b[38;5;32mStartInternalSystemAction\u001b[0m {'uid': 'fb8dbe88-e447-432f-8d85-f72e47941553', 'event_created_at': '2024-03-14T08:53:01.477907+00:00', 'source_uid': 'NeMoGuardrails', 'action_name': 'generate_bot_message', 'action_params': {}, 'action_result_key': None, 'action_uid': 'd107d28c-7d6f-45d7-b031-4df2deb2c7a6', 'is_system_action': True}\u001b[0m\n",
            "\u001b[36mExecuting action\u001b[0m generate_bot_message\u001b[0m\n",
            "\u001b[32mPhase 3\u001b[0m Generating bot message ...\u001b[0m\n",
            "Invocation Params\u001b[0m {'_type': 'hf_pipeline_llama2', 'stop': None}\u001b[0m\n",
            "Output Stats\u001b[0m None\u001b[0m\n",
            "\u001b[38;5;246m---\u001b[0m \u001b[38;5;246mLLM call took 548.76 seconds\u001b[0m\n",
            "\u001b[38;5;246m---\u001b[0m \u001b[38;5;246mLLM Bot Message Generation call took 548.76 seconds\u001b[0m\n",
            "\u001b[36mEvent\u001b[0m \u001b[38;5;32mBotMessage\u001b[0m {'uid': '7c0d6741-f802-462a-b6ad-183a118bda50', 'event_created_at': '2024-03-14T09:02:10.292044+00:00', 'source_uid': 'NeMoGuardrails', 'text': 'Please provide at least one example dialogue from this prompt so we get started?'}\u001b[0m\n",
            "\u001b[36mEvent\u001b[0m \u001b[38;5;32mStartInternalSystemAction\u001b[0m {'uid': '6d2cac76-6404-4fd8-8a30-8777b1e8b830', 'event_created_at': '2024-03-14T09:02:10.293342+00:00', 'source_uid': 'NeMoGuardrails', 'action_name': 'create_event', 'action_params': {'event': {'_type': 'StartUtteranceBotAction', 'script': '$bot_message'}}, 'action_result_key': None, 'action_uid': '0f21bda6-9bf9-49ed-8d5d-d2cf1cac1dfa', 'is_system_action': True}\u001b[0m\n",
            "\u001b[36mExecuting action\u001b[0m create_event\u001b[0m\n",
            "\u001b[36mEvent\u001b[0m \u001b[38;5;32mStartUtteranceBotAction\u001b[0m {'uid': '335aeadf-e631-478c-97c2-48f189eef8ff', 'event_created_at': '2024-03-14T09:02:10.293703+00:00', 'source_uid': 'NeMoGuardrails', 'script': 'Please provide at least one example dialogue from this prompt so we get started?', 'action_info_modality': 'bot_speech', 'action_info_modality_policy': 'replace', 'action_uid': 'af7cb5f4-ef48-4669-a100-3cadf551ae40'}\u001b[0m\n",
            "\u001b[38;5;246m---\u001b[0m \u001b[38;5;246mTotal processing took 1184.43 seconds. LLM Stats: 3 total calls, 1184.31 total time, 0 total tokens, 0 total prompt tokens, 0 total completion tokens, [400.01, 235.54, 548.76] as latencies\u001b[0m\n",
            "Please provide at least one example dialogue from this prompt so we get started?\n"
          ]
        }
      ]
    },
    {
      "cell_type": "code",
      "source": [],
      "metadata": {
        "id": "yeZG3XPMjhVO"
      },
      "execution_count": null,
      "outputs": []
    }
  ]
}