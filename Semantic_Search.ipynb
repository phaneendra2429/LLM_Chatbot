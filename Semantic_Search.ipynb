{
  "nbformat": 4,
  "nbformat_minor": 0,
  "metadata": {
    "colab": {
      "provenance": [],
      "mount_file_id": "1elsS8H-hWQZCD1LlMl-Bhc6bHGk8PPft",
      "authorship_tag": "ABX9TyPMg41ySrUCZdEX6mKd+P5T",
      "include_colab_link": true
    },
    "kernelspec": {
      "name": "python3",
      "display_name": "Python 3"
    },
    "language_info": {
      "name": "python"
    }
  },
  "cells": [
    {
      "cell_type": "markdown",
      "metadata": {
        "id": "view-in-github",
        "colab_type": "text"
      },
      "source": [
        "<a href=\"https://colab.research.google.com/github/phaneendra2429/Mental_Health_Chatbot/blob/Liz/Semantic_Search.ipynb\" target=\"_parent\"><img src=\"https://colab.research.google.com/assets/colab-badge.svg\" alt=\"Open In Colab\"/></a>"
      ]
    },
    {
      "cell_type": "code",
      "source": [
        "!pip install -U sentence-transformers"
      ],
      "metadata": {
        "id": "OQOX4s_mbfrL"
      },
      "execution_count": null,
      "outputs": []
    },
    {
      "cell_type": "code",
      "source": [
        "#Install Libraries\n",
        "import pandas as pd\n",
        "import numpy as np\n",
        "from sklearn.feature_extraction.text import TfidfVectorizer\n",
        "import spacy\n",
        "import string\n",
        "\n",
        "#Counting KeyWords\n",
        "from collections import Counter\n",
        "from nltk.tokenize import word_tokenize\n",
        "from nltk.corpus import stopwords\n",
        "import nltk\n",
        "nltk.download('stopwords')\n",
        "nltk.download('punkt')"
      ],
      "metadata": {
        "id": "WgB3-dqS_xg6"
      },
      "execution_count": null,
      "outputs": []
    },
    {
      "cell_type": "code",
      "source": [
        "#install transformers\n",
        "from sentence_transformers import SentenceTransformer, util\n",
        "model= SentenceTransformer('sentence-transformers/all-mpnet-base-v2')"
      ],
      "metadata": {
        "id": "wEr6akhFay1z"
      },
      "execution_count": null,
      "outputs": []
    },
    {
      "cell_type": "code",
      "source": [
        "from google.colab import drive\n",
        "drive.mount('/content/drive')"
      ],
      "metadata": {
        "id": "EISFb5c3dgUz"
      },
      "execution_count": null,
      "outputs": []
    },
    {
      "cell_type": "code",
      "source": [
        "nlp = spacy.load(\"en_core_web_sm\")"
      ],
      "metadata": {
        "id": "WhzAhd7bDDcY"
      },
      "execution_count": null,
      "outputs": []
    },
    {
      "cell_type": "code",
      "source": [
        "df_mental_health = pd.read_excel(\"/content/drive/MyDrive/Team 5/Depression_dataset_preprocessed (1).xlsx\", sheet_name= \"98_row_Mental_Health_FAQs\")\n",
        "df_counsellor_chats = pd.read_excel(\"/content/drive/MyDrive/Team 5/Depression_dataset_preprocessed (1).xlsx\", sheet_name= \"Counsellor_Chats\")\n",
        "df_human_therapist = pd.read_excel(\"/content/drive/MyDrive/Team 5/Depression_dataset_preprocessed (1).xlsx\", sheet_name= \"99_rows_Human_&_Therapist\")"
      ],
      "metadata": {
        "id": "7JfyjSlIDJav"
      },
      "execution_count": null,
      "outputs": []
    },
    {
      "cell_type": "code",
      "source": [
        "print(df_mental_health.columns)\n",
        "print(df_counsellor_chats.columns)\n",
        "print(df_human_therapist.columns)"
      ],
      "metadata": {
        "id": "vuJd952RDSqk"
      },
      "execution_count": null,
      "outputs": []
    },
    {
      "cell_type": "code",
      "source": [
        "df_counsellor_chats.head()"
      ],
      "metadata": {
        "colab": {
          "base_uri": "https://localhost:8080/",
          "height": 310
        },
        "id": "jKjeB1k1iglz",
        "outputId": "fcb423ae-eb4f-4710-e053-95cb5fc46bc4"
      },
      "execution_count": null,
      "outputs": [
        {
          "output_type": "execute_result",
          "data": {
            "text/plain": [
              "   Unnamed: 0  questionID                                      questionTitle  \\\n",
              "0           0           0  Can I change my feeling of being worthless to ...   \n",
              "1           1           0  Can I change my feeling of being worthless to ...   \n",
              "2           2           0  Can I change my feeling of being worthless to ...   \n",
              "3           3           0  Can I change my feeling of being worthless to ...   \n",
              "4           4           0  Can I change my feeling of being worthless to ...   \n",
              "\n",
              "                                        questionText       topic  \\\n",
              "0  I'm going through some things with my feelings...  depression   \n",
              "1  I'm going through some things with my feelings...  depression   \n",
              "2  I'm going through some things with my feelings...  depression   \n",
              "3  I'm going through some things with my feelings...  depression   \n",
              "4  I'm going through some things with my feelings...  depression   \n",
              "\n",
              "                                          answerText  views  \\\n",
              "0  If everyone thinks you're worthless, then mayb...   2899   \n",
              "1  Hello, and thank you for your question and see...   3514   \n",
              "2  First thing I'd suggest is getting the sleep y...      5   \n",
              "3  Therapy is essential for those that are feelin...     31   \n",
              "4  I first want to let you know that you are not ...    620   \n",
              "\n",
              "                                       therapistInfo  \n",
              "0  Sherry Katz, LCSWCouples and Family Therapist,...  \n",
              "1  Robin Landwehr, DBH, LPCC, NCCMental Health in...  \n",
              "2  Lee KingI use an integrative approach to treat...  \n",
              "3  Shauntai Davis-YearginPersonalized, private on...  \n",
              "4  Jordan WhiteLicensed Social Worker at Oak Root...  "
            ],
            "text/html": [
              "\n",
              "  <div id=\"df-78bd3ab9-ba2b-443b-b695-d71cb59f8ba4\" class=\"colab-df-container\">\n",
              "    <div>\n",
              "<style scoped>\n",
              "    .dataframe tbody tr th:only-of-type {\n",
              "        vertical-align: middle;\n",
              "    }\n",
              "\n",
              "    .dataframe tbody tr th {\n",
              "        vertical-align: top;\n",
              "    }\n",
              "\n",
              "    .dataframe thead th {\n",
              "        text-align: right;\n",
              "    }\n",
              "</style>\n",
              "<table border=\"1\" class=\"dataframe\">\n",
              "  <thead>\n",
              "    <tr style=\"text-align: right;\">\n",
              "      <th></th>\n",
              "      <th>Unnamed: 0</th>\n",
              "      <th>questionID</th>\n",
              "      <th>questionTitle</th>\n",
              "      <th>questionText</th>\n",
              "      <th>topic</th>\n",
              "      <th>answerText</th>\n",
              "      <th>views</th>\n",
              "      <th>therapistInfo</th>\n",
              "    </tr>\n",
              "  </thead>\n",
              "  <tbody>\n",
              "    <tr>\n",
              "      <th>0</th>\n",
              "      <td>0</td>\n",
              "      <td>0</td>\n",
              "      <td>Can I change my feeling of being worthless to ...</td>\n",
              "      <td>I'm going through some things with my feelings...</td>\n",
              "      <td>depression</td>\n",
              "      <td>If everyone thinks you're worthless, then mayb...</td>\n",
              "      <td>2899</td>\n",
              "      <td>Sherry Katz, LCSWCouples and Family Therapist,...</td>\n",
              "    </tr>\n",
              "    <tr>\n",
              "      <th>1</th>\n",
              "      <td>1</td>\n",
              "      <td>0</td>\n",
              "      <td>Can I change my feeling of being worthless to ...</td>\n",
              "      <td>I'm going through some things with my feelings...</td>\n",
              "      <td>depression</td>\n",
              "      <td>Hello, and thank you for your question and see...</td>\n",
              "      <td>3514</td>\n",
              "      <td>Robin Landwehr, DBH, LPCC, NCCMental Health in...</td>\n",
              "    </tr>\n",
              "    <tr>\n",
              "      <th>2</th>\n",
              "      <td>2</td>\n",
              "      <td>0</td>\n",
              "      <td>Can I change my feeling of being worthless to ...</td>\n",
              "      <td>I'm going through some things with my feelings...</td>\n",
              "      <td>depression</td>\n",
              "      <td>First thing I'd suggest is getting the sleep y...</td>\n",
              "      <td>5</td>\n",
              "      <td>Lee KingI use an integrative approach to treat...</td>\n",
              "    </tr>\n",
              "    <tr>\n",
              "      <th>3</th>\n",
              "      <td>3</td>\n",
              "      <td>0</td>\n",
              "      <td>Can I change my feeling of being worthless to ...</td>\n",
              "      <td>I'm going through some things with my feelings...</td>\n",
              "      <td>depression</td>\n",
              "      <td>Therapy is essential for those that are feelin...</td>\n",
              "      <td>31</td>\n",
              "      <td>Shauntai Davis-YearginPersonalized, private on...</td>\n",
              "    </tr>\n",
              "    <tr>\n",
              "      <th>4</th>\n",
              "      <td>4</td>\n",
              "      <td>0</td>\n",
              "      <td>Can I change my feeling of being worthless to ...</td>\n",
              "      <td>I'm going through some things with my feelings...</td>\n",
              "      <td>depression</td>\n",
              "      <td>I first want to let you know that you are not ...</td>\n",
              "      <td>620</td>\n",
              "      <td>Jordan WhiteLicensed Social Worker at Oak Root...</td>\n",
              "    </tr>\n",
              "  </tbody>\n",
              "</table>\n",
              "</div>\n",
              "    <div class=\"colab-df-buttons\">\n",
              "\n",
              "  <div class=\"colab-df-container\">\n",
              "    <button class=\"colab-df-convert\" onclick=\"convertToInteractive('df-78bd3ab9-ba2b-443b-b695-d71cb59f8ba4')\"\n",
              "            title=\"Convert this dataframe to an interactive table.\"\n",
              "            style=\"display:none;\">\n",
              "\n",
              "  <svg xmlns=\"http://www.w3.org/2000/svg\" height=\"24px\" viewBox=\"0 -960 960 960\">\n",
              "    <path d=\"M120-120v-720h720v720H120Zm60-500h600v-160H180v160Zm220 220h160v-160H400v160Zm0 220h160v-160H400v160ZM180-400h160v-160H180v160Zm440 0h160v-160H620v160ZM180-180h160v-160H180v160Zm440 0h160v-160H620v160Z\"/>\n",
              "  </svg>\n",
              "    </button>\n",
              "\n",
              "  <style>\n",
              "    .colab-df-container {\n",
              "      display:flex;\n",
              "      gap: 12px;\n",
              "    }\n",
              "\n",
              "    .colab-df-convert {\n",
              "      background-color: #E8F0FE;\n",
              "      border: none;\n",
              "      border-radius: 50%;\n",
              "      cursor: pointer;\n",
              "      display: none;\n",
              "      fill: #1967D2;\n",
              "      height: 32px;\n",
              "      padding: 0 0 0 0;\n",
              "      width: 32px;\n",
              "    }\n",
              "\n",
              "    .colab-df-convert:hover {\n",
              "      background-color: #E2EBFA;\n",
              "      box-shadow: 0px 1px 2px rgba(60, 64, 67, 0.3), 0px 1px 3px 1px rgba(60, 64, 67, 0.15);\n",
              "      fill: #174EA6;\n",
              "    }\n",
              "\n",
              "    .colab-df-buttons div {\n",
              "      margin-bottom: 4px;\n",
              "    }\n",
              "\n",
              "    [theme=dark] .colab-df-convert {\n",
              "      background-color: #3B4455;\n",
              "      fill: #D2E3FC;\n",
              "    }\n",
              "\n",
              "    [theme=dark] .colab-df-convert:hover {\n",
              "      background-color: #434B5C;\n",
              "      box-shadow: 0px 1px 3px 1px rgba(0, 0, 0, 0.15);\n",
              "      filter: drop-shadow(0px 1px 2px rgba(0, 0, 0, 0.3));\n",
              "      fill: #FFFFFF;\n",
              "    }\n",
              "  </style>\n",
              "\n",
              "    <script>\n",
              "      const buttonEl =\n",
              "        document.querySelector('#df-78bd3ab9-ba2b-443b-b695-d71cb59f8ba4 button.colab-df-convert');\n",
              "      buttonEl.style.display =\n",
              "        google.colab.kernel.accessAllowed ? 'block' : 'none';\n",
              "\n",
              "      async function convertToInteractive(key) {\n",
              "        const element = document.querySelector('#df-78bd3ab9-ba2b-443b-b695-d71cb59f8ba4');\n",
              "        const dataTable =\n",
              "          await google.colab.kernel.invokeFunction('convertToInteractive',\n",
              "                                                    [key], {});\n",
              "        if (!dataTable) return;\n",
              "\n",
              "        const docLinkHtml = 'Like what you see? Visit the ' +\n",
              "          '<a target=\"_blank\" href=https://colab.research.google.com/notebooks/data_table.ipynb>data table notebook</a>'\n",
              "          + ' to learn more about interactive tables.';\n",
              "        element.innerHTML = '';\n",
              "        dataTable['output_type'] = 'display_data';\n",
              "        await google.colab.output.renderOutput(dataTable, element);\n",
              "        const docLink = document.createElement('div');\n",
              "        docLink.innerHTML = docLinkHtml;\n",
              "        element.appendChild(docLink);\n",
              "      }\n",
              "    </script>\n",
              "  </div>\n",
              "\n",
              "\n",
              "<div id=\"df-7e1d2336-8362-468d-9d72-10c2c6dc1a0d\">\n",
              "  <button class=\"colab-df-quickchart\" onclick=\"quickchart('df-7e1d2336-8362-468d-9d72-10c2c6dc1a0d')\"\n",
              "            title=\"Suggest charts\"\n",
              "            style=\"display:none;\">\n",
              "\n",
              "<svg xmlns=\"http://www.w3.org/2000/svg\" height=\"24px\"viewBox=\"0 0 24 24\"\n",
              "     width=\"24px\">\n",
              "    <g>\n",
              "        <path d=\"M19 3H5c-1.1 0-2 .9-2 2v14c0 1.1.9 2 2 2h14c1.1 0 2-.9 2-2V5c0-1.1-.9-2-2-2zM9 17H7v-7h2v7zm4 0h-2V7h2v10zm4 0h-2v-4h2v4z\"/>\n",
              "    </g>\n",
              "</svg>\n",
              "  </button>\n",
              "\n",
              "<style>\n",
              "  .colab-df-quickchart {\n",
              "      --bg-color: #E8F0FE;\n",
              "      --fill-color: #1967D2;\n",
              "      --hover-bg-color: #E2EBFA;\n",
              "      --hover-fill-color: #174EA6;\n",
              "      --disabled-fill-color: #AAA;\n",
              "      --disabled-bg-color: #DDD;\n",
              "  }\n",
              "\n",
              "  [theme=dark] .colab-df-quickchart {\n",
              "      --bg-color: #3B4455;\n",
              "      --fill-color: #D2E3FC;\n",
              "      --hover-bg-color: #434B5C;\n",
              "      --hover-fill-color: #FFFFFF;\n",
              "      --disabled-bg-color: #3B4455;\n",
              "      --disabled-fill-color: #666;\n",
              "  }\n",
              "\n",
              "  .colab-df-quickchart {\n",
              "    background-color: var(--bg-color);\n",
              "    border: none;\n",
              "    border-radius: 50%;\n",
              "    cursor: pointer;\n",
              "    display: none;\n",
              "    fill: var(--fill-color);\n",
              "    height: 32px;\n",
              "    padding: 0;\n",
              "    width: 32px;\n",
              "  }\n",
              "\n",
              "  .colab-df-quickchart:hover {\n",
              "    background-color: var(--hover-bg-color);\n",
              "    box-shadow: 0 1px 2px rgba(60, 64, 67, 0.3), 0 1px 3px 1px rgba(60, 64, 67, 0.15);\n",
              "    fill: var(--button-hover-fill-color);\n",
              "  }\n",
              "\n",
              "  .colab-df-quickchart-complete:disabled,\n",
              "  .colab-df-quickchart-complete:disabled:hover {\n",
              "    background-color: var(--disabled-bg-color);\n",
              "    fill: var(--disabled-fill-color);\n",
              "    box-shadow: none;\n",
              "  }\n",
              "\n",
              "  .colab-df-spinner {\n",
              "    border: 2px solid var(--fill-color);\n",
              "    border-color: transparent;\n",
              "    border-bottom-color: var(--fill-color);\n",
              "    animation:\n",
              "      spin 1s steps(1) infinite;\n",
              "  }\n",
              "\n",
              "  @keyframes spin {\n",
              "    0% {\n",
              "      border-color: transparent;\n",
              "      border-bottom-color: var(--fill-color);\n",
              "      border-left-color: var(--fill-color);\n",
              "    }\n",
              "    20% {\n",
              "      border-color: transparent;\n",
              "      border-left-color: var(--fill-color);\n",
              "      border-top-color: var(--fill-color);\n",
              "    }\n",
              "    30% {\n",
              "      border-color: transparent;\n",
              "      border-left-color: var(--fill-color);\n",
              "      border-top-color: var(--fill-color);\n",
              "      border-right-color: var(--fill-color);\n",
              "    }\n",
              "    40% {\n",
              "      border-color: transparent;\n",
              "      border-right-color: var(--fill-color);\n",
              "      border-top-color: var(--fill-color);\n",
              "    }\n",
              "    60% {\n",
              "      border-color: transparent;\n",
              "      border-right-color: var(--fill-color);\n",
              "    }\n",
              "    80% {\n",
              "      border-color: transparent;\n",
              "      border-right-color: var(--fill-color);\n",
              "      border-bottom-color: var(--fill-color);\n",
              "    }\n",
              "    90% {\n",
              "      border-color: transparent;\n",
              "      border-bottom-color: var(--fill-color);\n",
              "    }\n",
              "  }\n",
              "</style>\n",
              "\n",
              "  <script>\n",
              "    async function quickchart(key) {\n",
              "      const quickchartButtonEl =\n",
              "        document.querySelector('#' + key + ' button');\n",
              "      quickchartButtonEl.disabled = true;  // To prevent multiple clicks.\n",
              "      quickchartButtonEl.classList.add('colab-df-spinner');\n",
              "      try {\n",
              "        const charts = await google.colab.kernel.invokeFunction(\n",
              "            'suggestCharts', [key], {});\n",
              "      } catch (error) {\n",
              "        console.error('Error during call to suggestCharts:', error);\n",
              "      }\n",
              "      quickchartButtonEl.classList.remove('colab-df-spinner');\n",
              "      quickchartButtonEl.classList.add('colab-df-quickchart-complete');\n",
              "    }\n",
              "    (() => {\n",
              "      let quickchartButtonEl =\n",
              "        document.querySelector('#df-7e1d2336-8362-468d-9d72-10c2c6dc1a0d button');\n",
              "      quickchartButtonEl.style.display =\n",
              "        google.colab.kernel.accessAllowed ? 'block' : 'none';\n",
              "    })();\n",
              "  </script>\n",
              "</div>\n",
              "\n",
              "    </div>\n",
              "  </div>\n"
            ],
            "application/vnd.google.colaboratory.intrinsic+json": {
              "type": "dataframe",
              "variable_name": "df_counsellor_chats",
              "summary": "{\n  \"name\": \"df_counsellor_chats\",\n  \"rows\": 2129,\n  \"fields\": [\n    {\n      \"column\": \"Unnamed: 0\",\n      \"properties\": {\n        \"dtype\": \"number\",\n        \"std\": 614,\n        \"min\": 0,\n        \"max\": 2128,\n        \"num_unique_values\": 2129,\n        \"samples\": [\n          282,\n          2004,\n          1710\n        ],\n        \"semantic_type\": \"\",\n        \"description\": \"\"\n      }\n    },\n    {\n      \"column\": \"questionID\",\n      \"properties\": {\n        \"dtype\": \"number\",\n        \"std\": 273,\n        \"min\": 0,\n        \"max\": 884,\n        \"num_unique_values\": 815,\n        \"samples\": [\n          206,\n          317,\n          413\n        ],\n        \"semantic_type\": \"\",\n        \"description\": \"\"\n      }\n    },\n    {\n      \"column\": \"questionTitle\",\n      \"properties\": {\n        \"dtype\": \"category\",\n        \"num_unique_values\": 818,\n        \"samples\": [\n          \"How can I control my anxiety?\",\n          \"I feel completely alone in my marriage\",\n          \"How do I stop a bully who adults wouldn't recognize as bullying without speaking to the bully?\"\n        ],\n        \"semantic_type\": \"\",\n        \"description\": \"\"\n      }\n    },\n    {\n      \"column\": \"questionText\",\n      \"properties\": {\n        \"dtype\": \"category\",\n        \"num_unique_values\": 824,\n        \"samples\": [\n          \"What makes a healthy marriage last?\",\n          \"I have attention-deficit/hyperactivity disorder, posttraumatic stress disorder, anxiety, anger, and memory problems. I can't work. I have no income. I'm on medicine, but I feel worthless. I want to be normal.\",\n          \"Over the years, I have slowly lost everything: my jobs, my cars, my freedom, and my money. I am a stay-at-home mom who doesn't make any money, doesn't have a car, never goes out, and cleans all day long everyday.\"\n        ],\n        \"semantic_type\": \"\",\n        \"description\": \"\"\n      }\n    },\n    {\n      \"column\": \"topic\",\n      \"properties\": {\n        \"dtype\": \"category\",\n        \"num_unique_values\": 31,\n        \"samples\": [\n          \"military-issues\",\n          \"marriage\",\n          \"stress\"\n        ],\n        \"semantic_type\": \"\",\n        \"description\": \"\"\n      }\n    },\n    {\n      \"column\": \"answerText\",\n      \"properties\": {\n        \"dtype\": \"string\",\n        \"num_unique_values\": 2008,\n        \"samples\": [\n          \"We women really do tend to struggle with the comparison game. And Hollywood culture hasn't helped with romantic comedies and song lyrics telling us that when a man appears evasive, there's something to worry about.\\u00c2\\u00a0It's been my clinical experience though that most women value transparency and security in their relationships. So you might try sharing a little bit more about your history with this woman. For example:Where did you meet her?How long were you friends before you decided to call it quits?\\u00c2\\u00a0Why don't you want to be friends with her (i.e., what do you mean by \\\"kind of crazy\\\")? I promise this tends to matter to women.Were you ever intimately involved with or even attracted to her?If your girlfriend can truly see that you view her as the filet mignon to the other woman's hamburger, and that she is your favorite person on the planet and has NOTHING to worry about, she may start to come around.Now, IF she's more concerned that you might be taking this woman's calls behind your back, while I'm not typically a huge fan of sharing passwords or phone records, you might print them off and highlight this female's number and show your girlfriend that you absolutely are telling the truth.And if you really want to step it up, I would be intentional about doing all the little things that you know your girlfriend loves that helped make her fall in love with you in the first place (e.g., little love notes for her to find or sweet text messages, buy a rose or her favorite flower, have her car detailed, do the laundry...date nights...you get the idea). \\u00c2\\u00a0Bottom line - show your girlfriend why out of all the women on the planet that you could be with, you CHOSE HER. \\u00c2\\u00a0And would continue to do so all over again. \\u00c2\\u00a0AND why you love HER as a person. \\u00c2\\u00a0This will help her trust what you're saying.\\u00c2\\u00a0Best of luck to you! \\u00c2\\u00a0Tamara Powell, LMHC\",\n          \"Hello! Thank you for your question. There are few things\\nthat people find more personal than their sexual relationships. When we feel\\nconnected to our partner, sex can be best thing since sliced bread. However, if\\nwe feel disconnected in some way, sex can feel degrading and even painful. \\nI don\\u00e2\\u20ac\\u2122t know the specifics about your relationship or how\\ncomfortable you are in talking to your boyfriend, but this is one of those\\nsituations where communicating your fears is a good idea. The only exception to\\nthat would be if you believe he is actually a threat to you in some way. If you\\nbelieve that, then you should do whatever you think is safe. It sounds like\\nthere is a part of you that is already afraid of him, and if that is the case\\nthen remaining safe is your top priority. \\nAssuming you are able to share with him your feelings,\\ntelling him what you are and are not interested in sexually is very appropriate\\nand sexually healthy. Sex is something that is supposed to be enjoyable for\\nall parties. All parties should feel respected and able to say \\u00e2\\u20ac\\u0153no\\u00e2\\u20ac\\u009d to\\nabsolutely anything they are not comfortable with. \\nI call the respectful agreement between sexual partners, \\u00e2\\u20ac\\u0153sex\\ntrust.\\u00e2\\u20ac\\u009d Sex Trust means your partner respects your boundaries. It means they\\nwon\\u00e2\\u20ac\\u2122t degrade you sexually with hurtful words, forced sex, or forcing or\\ncoercing sex in ways someone is not interested in having. \\u00c2\\u00a0Your personal safety and mental well-being is\\nwhat is most important. \\nNow, if there is a part of you that is curious about BDSM\\nand may be interested in participating in it, there are many websites that you\\ncan explore to learn information. I will warn you, some websites and articles\\nare better or worse than others, but you may at least feel more informed. \\nMany people engage in BDSM and have happy relationships, but\\nagain, it completely depends on what each person in the relationship wants. It is\\nalso important to know that BDSM is not\\u00c2\\u00a0just one thing and people practice it\\ndifferently based on comfort. If it is something you are uncomfortable with,\\nthen you shouldn\\u00e2\\u20ac\\u2122t feel obligated to do it.\\n\\u00c2\\u00a0\\nI hope this was helpful. Be well.\\n\\u00c2\\u00a0\\nRobin J. Landwehr, DBH, LPC, NCC\",\n          \"It is totally normal - you have a lot riding on this and you're invested! Think about why you feel so shaky - is it something about the therapist or their style? If so, it would be a good idea to talk with them about it so you feel more at ease. In any case bringing up your feelings about therapy in\\u00c2\\u00a0therapy is totally appropriate and even necessary. Good luck!\"\n        ],\n        \"semantic_type\": \"\",\n        \"description\": \"\"\n      }\n    },\n    {\n      \"column\": \"views\",\n      \"properties\": {\n        \"dtype\": \"number\",\n        \"std\": 300,\n        \"min\": 2,\n        \"max\": 3514,\n        \"num_unique_values\": 531,\n        \"samples\": [\n          2755,\n          32,\n          397\n        ],\n        \"semantic_type\": \"\",\n        \"description\": \"\"\n      }\n    },\n    {\n      \"column\": \"therapistInfo\",\n      \"properties\": {\n        \"dtype\": \"category\",\n        \"num_unique_values\": 307,\n        \"samples\": [\n          \"Marci WarrenWhole Wellness Counseling\",\n          \"Tamara PowellAnything But Ordinary!\",\n          \"Locke Curfman\"\n        ],\n        \"semantic_type\": \"\",\n        \"description\": \"\"\n      }\n    }\n  ]\n}"
            }
          },
          "metadata": {},
          "execution_count": 22
        }
      ]
    },
    {
      "cell_type": "code",
      "source": [
        "df_counsellor_chats.topic.value_counts()"
      ],
      "metadata": {
        "id": "Fg7q6PXulKR3"
      },
      "execution_count": null,
      "outputs": []
    },
    {
      "cell_type": "code",
      "source": [
        "#Only have depression related questions\n",
        "df_counsellor_chats = df_counsellor_chats[df_counsellor_chats.topic == \"depression\"]"
      ],
      "metadata": {
        "id": "Z8rV7GrPlSdV"
      },
      "execution_count": null,
      "outputs": []
    },
    {
      "cell_type": "code",
      "source": [
        "# Group by the questionTitle column and aggregate the answers into a single string\n",
        "combined_answers = df_counsellor_chats.groupby('questionTitle')['answerText'].agg(lambda x: ' '.join(x)).reset_index()"
      ],
      "metadata": {
        "id": "y6ZqBorgjddZ"
      },
      "execution_count": null,
      "outputs": []
    },
    {
      "cell_type": "code",
      "source": [
        "# Rename the columns if needed\n",
        "combined_answers.columns = ['questionTitle', 'combined_answers']\n",
        "\n",
        "# Print the resulting DataFrame\n",
        "combined_answers.head()"
      ],
      "metadata": {
        "id": "5x9KVFfMjq43"
      },
      "execution_count": null,
      "outputs": []
    },
    {
      "cell_type": "code",
      "source": [
        "df1_selected= df_human_therapist[[\"Human\", \"Assistant\"]]\n",
        "df2_selected= df_mental_health[[\"Questions_cleaned\", \"Answers_cleaned\"]]\n",
        "df3_selected= combined_answers[[\"questionTitle\", \"combined_answers\"]]"
      ],
      "metadata": {
        "id": "9jELuXy1l-MH"
      },
      "execution_count": null,
      "outputs": []
    },
    {
      "cell_type": "code",
      "source": [
        "# Rename the columns for consistency\n",
        "df2_selected.columns = ['Human', 'Assistant']\n",
        "df3_selected.columns = ['Human', 'Assistant']"
      ],
      "metadata": {
        "id": "KuqAyIe2o6PT"
      },
      "execution_count": null,
      "outputs": []
    },
    {
      "cell_type": "code",
      "source": [
        "# Concatenate the rows of the DataFrames\n",
        "combined_df = pd.concat([df1_selected, df2_selected, df3_selected], ignore_index=True)\n"
      ],
      "metadata": {
        "id": "rKsSvvCim9nR"
      },
      "execution_count": null,
      "outputs": []
    },
    {
      "cell_type": "code",
      "source": [
        "combined_df.shape #327 rows of data"
      ],
      "metadata": {
        "colab": {
          "base_uri": "https://localhost:8080/"
        },
        "id": "VcOFNKLwnOJ0",
        "outputId": "24effe9b-24a3-471d-ae00-caff53b28a94"
      },
      "execution_count": null,
      "outputs": [
        {
          "output_type": "execute_result",
          "data": {
            "text/plain": [
              "(327, 2)"
            ]
          },
          "metadata": {},
          "execution_count": 59
        }
      ]
    },
    {
      "cell_type": "code",
      "source": [
        "# Count occurrences of each data type in the \"Human\" column\n",
        "assistant_dtype_counts = combined_df['Human'].apply(type).value_counts()\n",
        "\n",
        "# Print the counts\n",
        "print(\"Counts of data types in 'Assistant' column:\")\n",
        "print(assistant_dtype_counts)"
      ],
      "metadata": {
        "id": "1wYh9I-Vp7dZ"
      },
      "execution_count": null,
      "outputs": []
    },
    {
      "cell_type": "code",
      "source": [
        "# Filter rows where the input in the \"Human\" column is not a float\n",
        "combined_df = combined_df[~combined_df['Human'].apply(lambda x: isinstance(x, float))]"
      ],
      "metadata": {
        "id": "Rqltu6cFqy94"
      },
      "execution_count": null,
      "outputs": []
    },
    {
      "cell_type": "code",
      "source": [
        "#Text preprocess with string. Remove punctuations and make lowercase\n",
        "def column_preprocess(df, columnname):\n",
        "\n",
        "  def word_preprocess(text):\n",
        "    text_without_punct = text.translate(str.maketrans(\" \", \" \", string.punctuation))\n",
        "    cleaned_text = text_without_punct.lower()\n",
        "    return cleaned_text\n",
        "  df[columnname]= df[columnname].apply(word_preprocess)\n",
        "\n",
        "  return df"
      ],
      "metadata": {
        "id": "I_rxtSNfV88q"
      },
      "execution_count": null,
      "outputs": []
    },
    {
      "cell_type": "code",
      "source": [
        "cleaned_df = column_preprocess(combined_df, \"Human\")\n",
        "cleaned_df = column_preprocess(combined_df, \"Assistant\")"
      ],
      "metadata": {
        "id": "2-9go0cdOJai"
      },
      "execution_count": null,
      "outputs": []
    },
    {
      "cell_type": "code",
      "source": [
        "cleaned_df.reset_index(inplace=True)"
      ],
      "metadata": {
        "id": "QoWSikgIY6N5"
      },
      "execution_count": null,
      "outputs": []
    },
    {
      "cell_type": "code",
      "source": [
        "sentences = cleaned_df[\"Human\"]\n",
        "#Encode all sentences\n",
        "embeddings= model.encode(sentences)\n",
        "#Compute cosine similarity between all pairs\n",
        "cos_sim= util.cos_sim(embeddings, embeddings)"
      ],
      "metadata": {
        "id": "IqTNu56xYye2"
      },
      "execution_count": null,
      "outputs": []
    },
    {
      "cell_type": "code",
      "source": [
        "similarity_threshold= 0.6\n",
        "\n",
        "#Add all pairs to a list\n",
        "grouped_sentences= []\n",
        "\n",
        "#question-group mapping\n",
        "\n",
        "questions_to_be_grouped= {}\n",
        "\n",
        "#counter number for grouping in numbers\n",
        "\n",
        "group_number =1\n",
        "\n",
        "#empty list for current group\n",
        "current_group= []\n",
        "\n",
        "\n",
        "for i in range(len(cos_sim)):\n",
        "\n",
        "  #check if the index has already been grouped\n",
        "  if i not in questions_to_be_grouped:\n",
        "    current_group = [i]\n",
        "    for j in range(len(cos_sim)):\n",
        "      if i!=j and cos_sim[i][j]>=similarity_threshold:\n",
        "        current_group.append(j)\n",
        "        questions_to_be_grouped[j]= group_number\n",
        "\n",
        "    group_number +=1\n",
        "    if len(current_group) >1:\n",
        "      grouped_sentences.append(current_group)"
      ],
      "metadata": {
        "id": "fHT2ONZIeQTo"
      },
      "execution_count": null,
      "outputs": []
    },
    {
      "cell_type": "code",
      "source": [
        "#Print the grouped questions with group numbers\n",
        "for group_number, group in enumerate(grouped_sentences, start=1):\n",
        "  print(f\"Group {group_number}\")\n",
        "  for i in group:\n",
        "    print(cleaned_df.loc[i, \"Human\"])\n",
        "  print('\\n')"
      ],
      "metadata": {
        "id": "uv2dJ1gFeVMV"
      },
      "execution_count": null,
      "outputs": []
    },
    {
      "cell_type": "code",
      "source": [],
      "metadata": {
        "id": "yUBzKrfa6B2w"
      },
      "execution_count": null,
      "outputs": []
    }
  ]
}