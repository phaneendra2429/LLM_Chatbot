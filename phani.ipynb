{
 "cells": [
  {
   "cell_type": "code",
   "execution_count": 2,
   "metadata": {},
   "outputs": [],
   "source": [
    "from langchain_community.document_loaders import PyMuPDFLoader\n",
    "from langchain_community.document_loaders import TextLoader\n",
    "from langchain_community.embeddings.sentence_transformer import (\n",
    "    SentenceTransformerEmbeddings,\n",
    ")\n",
    "import os\n",
    "from langchain.storage import InMemoryStore\n",
    "from langchain_community.document_loaders import TextLoader\n",
    "\n",
    "from langchain_text_splitters import RecursiveCharacterTextSplitter\n",
    "from langchain.retrievers import ParentDocumentRetriever\n",
    "from langchain_community.vectorstores import Chroma\n",
    "from langchain_text_splitters import CharacterTextSplitter, RecursiveCharacterTextSplitter\n",
    "\n",
    "import pickle\n"
   ]
  },
  {
   "cell_type": "code",
   "execution_count": 1,
   "metadata": {},
   "outputs": [
    {
     "name": "stderr",
     "output_type": "stream",
     "text": [
      "c:\\Users\\phane\\anaconda3\\envs\\llm_chatbot\\lib\\site-packages\\tqdm\\auto.py:21: TqdmWarning: IProgress not found. Please update jupyter and ipywidgets. See https://ipywidgets.readthedocs.io/en/stable/user_install.html\n",
      "  from .autonotebook import tqdm as notebook_tqdm\n"
     ]
    },
    {
     "name": "stdout",
     "output_type": "stream",
     "text": [
      "vectorstore=<langchain_community.vectorstores.chroma.Chroma object at 0x0000025F6F3023D0> docstore=<langchain.storage.in_memory.InMemoryBaseStore object at 0x0000025F3B42CF40> child_splitter=<langchain_text_splitters.character.RecursiveCharacterTextSplitter object at 0x0000025F3B0F1C10> parent_splitter=<langchain_text_splitters.character.RecursiveCharacterTextSplitter object at 0x0000025F71105AF0>\n",
      "\n",
      "\n",
      " Retrival: We all feel down, worried, and out of balance from time to time in response to life’s struggles and setbacks. But\n",
      "when feelings of hopelessness, fear, anger, sadness, or overwhelming stress start to interfere with how you\n",
      "function in daily life, it can be a sign that you need help for an underlying condition. Instead of seeking\n",
      "treatment, though, it can be tempting to try to cope on your own in the simplest way possible: by reaching for a\n",
      "drink or popping a pill.\n",
      "In these times of widespread financial and social turmoil, many of us have tried to self-medicate our angst and\n",
      "uncertainty as the world seems to lurch from one crisis to another.\n",
      "[Read: Dealing with Uncertainty]\n",
      "Other people turn to substances to cope with unpleasant memories or feelings stemming from the past, such as\n",
      "unresolved traumatic incidents. Others use alcohol or drugs to face situations that frighten them or to stay\n",
      "focused on tasks throughout the day.\n",
      "Just as the reasons for seeking comfort in drugs or alcohol vary according to the individual, so too can the\n",
      "methods of self-medicating.\n",
      "Forms of self-medication\n",
      "Alcohol tends to be the most common method of self-medication—as well as the most commonly abused\n",
      "substance—since it’s so widely available. It may be used to self-medicate stress as well as depression and\n",
      "anxiety, even though beer, wine, and liquor are all depressants and will therefore only make symptoms worse.\n",
      "Prescription drugs, including opioid pain killers, ADHD medication, and anti-anxiety medication are also widely\n",
      "available. Their uses can range from numbing pain or relaxation to increasing focus and energy.\n",
      "Recreational drugs, such as marijuana, cannabis, or stimulants like cocaine and amphetamines are used to\n",
      "manage uncomfortable emotions, situations, and memories. Their use can lead to drug abuse and addiction.\n",
      "Food can be used by emotional eaters to self-medicate unpleasant feelings and deal with stress, anxiety, or\n"
     ]
    }
   ],
   "source": [
    "\n",
    "# Import CSV Files to the VectorDB\n",
    "# Reference : https://towardsdatascience.com/rag-how-to-talk-to-your-data-eaf5469b83b0\n",
    "\n",
    "# df_mental_health = pd.read_excel(\"/content/drive/MyDrive/Team 5/Depression_dataset_preprocessed (1).xlsx\", sheet_name= \"98_row_Mental_Health_FAQs\")\n",
    "# df_counsellor_chats = pd.read_excel(\"/content/drive/MyDrive/Team 5/Depression_dataset_preprocessed (1).xlsx\", sheet_name= \"Counsellor_Chats\")\n",
    "# df_human_therapist = pd.read_excel(\"/content/drive/MyDrive/Team 5/Depression_dataset_preprocessed (1).xlsx\", sheet_name= \"99_rows_Human_&_Therapist\")\n",
    "\n",
    "# Get the directory path of the current script\n",
    "# script_dir = os.path.dirname(os.path.abspath())\n",
    "\n",
    "# loader = PyMuPDFLoader(os.path.join(script_dir, 'Data','pdf', 'Depression Help Guide.pdf'))\n",
    "loader = PyMuPDFLoader(\"Data\\pdf\\Depression Help Guide.pdf\")\n",
    "\n",
    "documents  = loader.load()\n",
    "\n",
    "# create the open-source embedding function\n",
    "# Docs:- https://huggingface.co/sentence-transformers/all-MiniLM-L6-v2\n",
    "embedding_function = SentenceTransformerEmbeddings(model_name=\"all-MiniLM-L6-v2\")\n",
    "\n",
    "# https://python.langchain.com/docs/modules/data_connection/retrievers/parent_document_retriever\n",
    "\n",
    "parent_splitter = RecursiveCharacterTextSplitter(chunk_size=2000)\n",
    "\n",
    "# This text splitter is used to create the child documents\n",
    "# It should create documents smaller than the parent\n",
    "child_splitter = RecursiveCharacterTextSplitter(chunk_size=400)\n",
    "\n",
    "# The vectorstore to use to index the child chunks\n",
    "vectorstore = Chroma(\n",
    "    collection_name=\"split_parents\", embedding_function=embedding_function, persist_directory=\"Data\\chroma\")\n",
    "\n",
    "# The storage layer for the parent documents\n",
    "store = InMemoryStore()\n",
    "\n",
    "def instantiate_rag():\n",
    "    rag_retriever = ParentDocumentRetriever(\n",
    "        vectorstore=vectorstore,\n",
    "        docstore=store,\n",
    "        child_splitter=child_splitter,\n",
    "        parent_splitter=parent_splitter,\n",
    "    )\n",
    "    rag_retriever.add_documents(documents)\n",
    "    return rag_retriever\n",
    "\n",
    "print(instantiate_rag())\n",
    "\n",
    "ret = instantiate_rag()\n",
    "\n",
    "# Serialize and save the object to a file\n",
    "# with open('saved_object.pkl', 'wb') as f:\n",
    "#     pickle.dump(ret, f)\n",
    "\n",
    "pg=ret.get_relevant_documents(\"feeling low\")\n",
    "print(\"\\n\\n Retrival:\",pg[0].page_content)\n",
    "\n"
   ]
  },
  {
   "cell_type": "code",
   "execution_count": 11,
   "metadata": {},
   "outputs": [
    {
     "name": "stdout",
     "output_type": "stream",
     "text": [
      "vectorstore=<langchain_community.vectorstores.chroma.Chroma object at 0x0000020E0FB3A790> docstore=<langchain.storage.in_memory.InMemoryBaseStore object at 0x0000020E0FB3A520> child_splitter=<langchain_text_splitters.character.RecursiveCharacterTextSplitter object at 0x0000020E0F80BF10> parent_splitter=<langchain_text_splitters.character.RecursiveCharacterTextSplitter object at 0x0000020E6493F940>\n",
      "vectorstore=<langchain_community.vectorstores.chroma.Chroma object at 0x0000020E0FB3A790> docstore=<langchain.storage.in_memory.InMemoryBaseStore object at 0x0000020E0FB3A520> child_splitter=<langchain_text_splitters.character.RecursiveCharacterTextSplitter object at 0x0000020E0F80BF10> parent_splitter=<langchain_text_splitters.character.RecursiveCharacterTextSplitter object at 0x0000020E6493F940>\n"
     ]
    }
   ],
   "source": [
    "ete = ret.docstore\n",
    "print(ete)\n",
    "print(ret)"
   ]
  },
  {
   "cell_type": "code",
   "execution_count": null,
   "metadata": {},
   "outputs": [],
   "source": [
    "pg=ete.get_relevant_documents(\"feeling low\")\n",
    "print(\"\\n\\n Retrival:\",pg[0].page_content)"
   ]
  },
  {
   "cell_type": "code",
   "execution_count": 18,
   "metadata": {},
   "outputs": [
    {
     "data": {
      "text/plain": [
       "langchain.retrievers.parent_document_retriever.ParentDocumentRetriever"
      ]
     },
     "execution_count": 18,
     "metadata": {},
     "output_type": "execute_result"
    }
   ],
   "source": [
    "type(ete)"
   ]
  },
  {
   "cell_type": "code",
   "execution_count": 13,
   "metadata": {},
   "outputs": [],
   "source": [
    "import sqlite3\n",
    "import shutil\n",
    "conn = sqlite3.connect('Data\\chroma\\chroma.sqlite3')"
   ]
  },
  {
   "cell_type": "code",
   "execution_count": 16,
   "metadata": {},
   "outputs": [
    {
     "data": {
      "text/plain": [
       "<sqlite3.Connection at 0x20e25490b70>"
      ]
     },
     "execution_count": 16,
     "metadata": {},
     "output_type": "execute_result"
    }
   ],
   "source": [
    "conn"
   ]
  },
  {
   "cell_type": "code",
   "execution_count": 19,
   "metadata": {},
   "outputs": [
    {
     "data": {
      "text/plain": [
       "<langchain.storage.in_memory.InMemoryBaseStore at 0x20e0fb3a520>"
      ]
     },
     "execution_count": 19,
     "metadata": {},
     "output_type": "execute_result"
    }
   ],
   "source": [
    "store"
   ]
  },
  {
   "cell_type": "code",
   "execution_count": 20,
   "metadata": {},
   "outputs": [],
   "source": [
    "store=InMemoryStore()"
   ]
  },
  {
   "cell_type": "code",
   "execution_count": 22,
   "metadata": {},
   "outputs": [
    {
     "data": {
      "text/plain": [
       "<langchain.storage.in_memory.InMemoryBaseStore at 0x20e648f48e0>"
      ]
     },
     "execution_count": 22,
     "metadata": {},
     "output_type": "execute_result"
    }
   ],
   "source": [
    "store"
   ]
  },
  {
   "cell_type": "code",
   "execution_count": 23,
   "metadata": {},
   "outputs": [
    {
     "data": {
      "text/plain": [
       "<langchain.storage.in_memory.InMemoryBaseStore at 0x20e0fb3a520>"
      ]
     },
     "execution_count": 23,
     "metadata": {},
     "output_type": "execute_result"
    }
   ],
   "source": [
    "ret.docstore"
   ]
  },
  {
   "cell_type": "code",
   "execution_count": 4,
   "metadata": {},
   "outputs": [],
   "source": [
    "obj = store\n",
    "# Serialize and save the object to a file\n",
    "with open('saved_object.pkl', 'wb') as f:\n",
    "    pickle.dump(obj, f)"
   ]
  },
  {
   "cell_type": "code",
   "execution_count": 3,
   "metadata": {},
   "outputs": [
    {
     "name": "stderr",
     "output_type": "stream",
     "text": [
      "c:\\Users\\phane\\anaconda3\\envs\\llm_chatbot\\lib\\site-packages\\tqdm\\auto.py:21: TqdmWarning: IProgress not found. Please update jupyter and ipywidgets. See https://ipywidgets.readthedocs.io/en/stable/user_install.html\n",
      "  from .autonotebook import tqdm as notebook_tqdm\n"
     ]
    }
   ],
   "source": [
    "loader = PyMuPDFLoader(\"Data\\pdf\\Depression Help Guide.pdf\")\n",
    "\n",
    "documents  = loader.load()\n",
    "\n",
    "# create the open-source embedding function\n",
    "# Docs:- https://huggingface.co/sentence-transformers/all-MiniLM-L6-v2\n",
    "embedding_function = SentenceTransformerEmbeddings(model_name=\"all-MiniLM-L6-v2\")\n",
    "\n",
    "# https://python.langchain.com/docs/modules/data_connection/retrievers/parent_document_retriever\n",
    "\n",
    "parent_splitter = RecursiveCharacterTextSplitter(chunk_size=2000)\n",
    "\n",
    "# This text splitter is used to create the child documents\n",
    "# It should create documents smaller than the parent\n",
    "child_splitter = RecursiveCharacterTextSplitter(chunk_size=400)\n"
   ]
  },
  {
   "cell_type": "code",
   "execution_count": 4,
   "metadata": {},
   "outputs": [
    {
     "name": "stdout",
     "output_type": "stream",
     "text": [
      "<langchain.storage.in_memory.InMemoryBaseStore object at 0x000002862720B850>\n"
     ]
    }
   ],
   "source": [
    "with open('saved_object.pkl', 'rb') as f:\n",
    "    obj = pickle.load(f)\n",
    "\n",
    "# Access the data attribute of the reconstructed object\n",
    "print(obj)"
   ]
  },
  {
   "cell_type": "code",
   "execution_count": 5,
   "metadata": {},
   "outputs": [],
   "source": [
    "vectorstore = Chroma(\n",
    "    collection_name=\"split_parents\", embedding_function=embedding_function, persist_directory=\"Data\\chroma\")\n",
    "rag = ParentDocumentRetriever(\n",
    "        vectorstore=vectorstore,\n",
    "        docstore=obj,\n",
    "        child_splitter=child_splitter,\n",
    "        parent_splitter=parent_splitter,\n",
    "    )"
   ]
  },
  {
   "cell_type": "code",
   "execution_count": 6,
   "metadata": {},
   "outputs": [
    {
     "name": "stdout",
     "output_type": "stream",
     "text": [
      "\n",
      "\n",
      " Retrival: We all feel down, worried, and out of balance from time to time in response to life’s struggles and setbacks. But\n",
      "when feelings of hopelessness, fear, anger, sadness, or overwhelming stress start to interfere with how you\n",
      "function in daily life, it can be a sign that you need help for an underlying condition. Instead of seeking\n",
      "treatment, though, it can be tempting to try to cope on your own in the simplest way possible: by reaching for a\n",
      "drink or popping a pill.\n",
      "In these times of widespread financial and social turmoil, many of us have tried to self-medicate our angst and\n",
      "uncertainty as the world seems to lurch from one crisis to another.\n",
      "[Read: Dealing with Uncertainty]\n",
      "Other people turn to substances to cope with unpleasant memories or feelings stemming from the past, such as\n",
      "unresolved traumatic incidents. Others use alcohol or drugs to face situations that frighten them or to stay\n",
      "focused on tasks throughout the day.\n",
      "Just as the reasons for seeking comfort in drugs or alcohol vary according to the individual, so too can the\n",
      "methods of self-medicating.\n",
      "Forms of self-medication\n",
      "Alcohol tends to be the most common method of self-medication—as well as the most commonly abused\n",
      "substance—since it’s so widely available. It may be used to self-medicate stress as well as depression and\n",
      "anxiety, even though beer, wine, and liquor are all depressants and will therefore only make symptoms worse.\n",
      "Prescription drugs, including opioid pain killers, ADHD medication, and anti-anxiety medication are also widely\n",
      "available. Their uses can range from numbing pain or relaxation to increasing focus and energy.\n",
      "Recreational drugs, such as marijuana, cannabis, or stimulants like cocaine and amphetamines are used to\n",
      "manage uncomfortable emotions, situations, and memories. Their use can lead to drug abuse and addiction.\n",
      "Food can be used by emotional eaters to self-medicate unpleasant feelings and deal with stress, anxiety, or\n"
     ]
    }
   ],
   "source": [
    "pg=rag.get_relevant_documents(\"feeling low\")\n",
    "print(\"\\n\\n Retrival:\",pg[0].page_content)\n"
   ]
  },
  {
   "cell_type": "code",
   "execution_count": null,
   "metadata": {},
   "outputs": [],
   "source": []
  },
  {
   "cell_type": "code",
   "execution_count": 11,
   "metadata": {},
   "outputs": [],
   "source": [
    "persist_directory=\"Data/chroma\"\n",
    "# chroma_client = chromadb.PersistentClient(persist_directory=persist_directory)\n",
    "embedding_function = SentenceTransformerEmbeddings(model_name=\"all-MiniLM-L6-v2\")\n",
    "vectors = Chroma(persist_directory = persist_directory, embedding_function = embedding_function, collection_name=\"split_parents\")\n",
    "retriever = vectors.as_retriever()"
   ]
  },
  {
   "cell_type": "code",
   "execution_count": 10,
   "metadata": {},
   "outputs": [
    {
     "data": {
      "text/plain": [
       "[]"
      ]
     },
     "execution_count": 10,
     "metadata": {},
     "output_type": "execute_result"
    }
   ],
   "source": [
    "retriever.get_relevant_documents(\"feeling low\")"
   ]
  },
  {
   "cell_type": "code",
   "execution_count": null,
   "metadata": {},
   "outputs": [],
   "source": []
  }
 ],
 "metadata": {
  "kernelspec": {
   "display_name": "llm_chatbot",
   "language": "python",
   "name": "python3"
  },
  "language_info": {
   "codemirror_mode": {
    "name": "ipython",
    "version": 3
   },
   "file_extension": ".py",
   "mimetype": "text/x-python",
   "name": "python",
   "nbconvert_exporter": "python",
   "pygments_lexer": "ipython3",
   "version": "3.8.18"
  }
 },
 "nbformat": 4,
 "nbformat_minor": 2
}
